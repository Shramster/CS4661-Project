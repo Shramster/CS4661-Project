{
 "cells": [
  {
   "cell_type": "markdown",
   "id": "2d724486",
   "metadata": {},
   "source": [
    "<h1>Erik Blood Development Notebook</h1>\n",
    "<h2>Using Random Forrest Regression </h2>\n",
    "<p>In this notebook I will be experimenting with the data set </p>"
   ]
  },
  {
   "cell_type": "code",
   "execution_count": 1,
   "id": "10d4be7c",
   "metadata": {},
   "outputs": [],
   "source": [
    "import pandas as pd\n",
    "import numpy as np\n",
    "from sklearn import preprocessing\n",
    "from sklearn.model_selection import train_test_split\n",
    "from sklearn.ensemble import RandomForestRegressor\n",
    "from sklearn.metrics import r2_score\n"
   ]
  },
  {
   "cell_type": "markdown",
   "id": "4ea1b64b",
   "metadata": {},
   "source": [
    "<h2> Read data set, assign features and split into X and y </h2>"
   ]
  },
  {
   "cell_type": "code",
   "execution_count": 2,
   "id": "8546e1d8",
   "metadata": {},
   "outputs": [],
   "source": [
    "df = pd.read_csv(\"../dataset/dataset/1-CombinedDataset.csv\", index_col=0)"
   ]
  },
  {
   "cell_type": "code",
   "execution_count": 3,
   "id": "4aa5423b",
   "metadata": {},
   "outputs": [
    {
     "data": {
      "text/html": [
       "<div>\n",
       "<style scoped>\n",
       "    .dataframe tbody tr th:only-of-type {\n",
       "        vertical-align: middle;\n",
       "    }\n",
       "\n",
       "    .dataframe tbody tr th {\n",
       "        vertical-align: top;\n",
       "    }\n",
       "\n",
       "    .dataframe thead th {\n",
       "        text-align: right;\n",
       "    }\n",
       "</style>\n",
       "<table border=\"1\" class=\"dataframe\">\n",
       "  <thead>\n",
       "    <tr style=\"text-align: right;\">\n",
       "      <th></th>\n",
       "      <th>DATE</th>\n",
       "      <th>FORECLOSURE</th>\n",
       "      <th>CAUR</th>\n",
       "      <th>Average DGS</th>\n",
       "      <th>DFF</th>\n",
       "      <th>NASDAQCOM</th>\n",
       "      <th>ZHVI</th>\n",
       "      <th>MORT30US</th>\n",
       "      <th>BofA_Yield_Index_PCH</th>\n",
       "      <th>CA_Consumer_Price_Index</th>\n",
       "    </tr>\n",
       "  </thead>\n",
       "  <tbody>\n",
       "    <tr>\n",
       "      <th>0</th>\n",
       "      <td>2014-01-01</td>\n",
       "      <td>1440</td>\n",
       "      <td>8.2</td>\n",
       "      <td>2.858095</td>\n",
       "      <td>0.071613</td>\n",
       "      <td>1.92538</td>\n",
       "      <td>1.34214</td>\n",
       "      <td>4.4320</td>\n",
       "      <td>1.07487</td>\n",
       "      <td>235.288</td>\n",
       "    </tr>\n",
       "    <tr>\n",
       "      <th>1</th>\n",
       "      <td>2014-02-01</td>\n",
       "      <td>524</td>\n",
       "      <td>8.1</td>\n",
       "      <td>2.709474</td>\n",
       "      <td>0.066429</td>\n",
       "      <td>1.08537</td>\n",
       "      <td>1.13758</td>\n",
       "      <td>4.3025</td>\n",
       "      <td>0.87364</td>\n",
       "      <td>235.547</td>\n",
       "    </tr>\n",
       "    <tr>\n",
       "      <th>2</th>\n",
       "      <td>2014-03-01</td>\n",
       "      <td>611</td>\n",
       "      <td>8.0</td>\n",
       "      <td>2.723333</td>\n",
       "      <td>0.078065</td>\n",
       "      <td>1.83138</td>\n",
       "      <td>0.60021</td>\n",
       "      <td>4.3425</td>\n",
       "      <td>1.04621</td>\n",
       "      <td>236.028</td>\n",
       "    </tr>\n",
       "    <tr>\n",
       "      <th>3</th>\n",
       "      <td>2014-04-01</td>\n",
       "      <td>328</td>\n",
       "      <td>7.8</td>\n",
       "      <td>2.705238</td>\n",
       "      <td>0.090333</td>\n",
       "      <td>-3.67258</td>\n",
       "      <td>0.22288</td>\n",
       "      <td>4.3375</td>\n",
       "      <td>0.66026</td>\n",
       "      <td>236.468</td>\n",
       "    </tr>\n",
       "    <tr>\n",
       "      <th>4</th>\n",
       "      <td>2014-05-01</td>\n",
       "      <td>503</td>\n",
       "      <td>7.7</td>\n",
       "      <td>2.559048</td>\n",
       "      <td>0.087097</td>\n",
       "      <td>0.39007</td>\n",
       "      <td>0.08087</td>\n",
       "      <td>4.1920</td>\n",
       "      <td>0.88867</td>\n",
       "      <td>236.918</td>\n",
       "    </tr>\n",
       "    <tr>\n",
       "      <th>...</th>\n",
       "      <td>...</td>\n",
       "      <td>...</td>\n",
       "      <td>...</td>\n",
       "      <td>...</td>\n",
       "      <td>...</td>\n",
       "      <td>...</td>\n",
       "      <td>...</td>\n",
       "      <td>...</td>\n",
       "      <td>...</td>\n",
       "      <td>...</td>\n",
       "    </tr>\n",
       "    <tr>\n",
       "      <th>100</th>\n",
       "      <td>2022-05-01</td>\n",
       "      <td>170</td>\n",
       "      <td>4.3</td>\n",
       "      <td>2.898095</td>\n",
       "      <td>0.765484</td>\n",
       "      <td>-11.67996</td>\n",
       "      <td>1.39058</td>\n",
       "      <td>5.2300</td>\n",
       "      <td>-3.22395</td>\n",
       "      <td>291.474</td>\n",
       "    </tr>\n",
       "    <tr>\n",
       "      <th>101</th>\n",
       "      <td>2022-06-01</td>\n",
       "      <td>196</td>\n",
       "      <td>4.2</td>\n",
       "      <td>3.143333</td>\n",
       "      <td>1.205000</td>\n",
       "      <td>-3.47270</td>\n",
       "      <td>0.29177</td>\n",
       "      <td>5.5220</td>\n",
       "      <td>-2.03930</td>\n",
       "      <td>295.328</td>\n",
       "    </tr>\n",
       "    <tr>\n",
       "      <th>102</th>\n",
       "      <td>2022-07-01</td>\n",
       "      <td>147</td>\n",
       "      <td>3.9</td>\n",
       "      <td>2.896000</td>\n",
       "      <td>1.675806</td>\n",
       "      <td>1.78399</td>\n",
       "      <td>-0.40032</td>\n",
       "      <td>5.4125</td>\n",
       "      <td>-0.40364</td>\n",
       "      <td>295.271</td>\n",
       "    </tr>\n",
       "    <tr>\n",
       "      <th>103</th>\n",
       "      <td>2022-08-01</td>\n",
       "      <td>214</td>\n",
       "      <td>4.1</td>\n",
       "      <td>2.897826</td>\n",
       "      <td>2.330000</td>\n",
       "      <td>8.15331</td>\n",
       "      <td>-1.15309</td>\n",
       "      <td>5.2225</td>\n",
       "      <td>3.38678</td>\n",
       "      <td>295.620</td>\n",
       "    </tr>\n",
       "    <tr>\n",
       "      <th>104</th>\n",
       "      <td>2022-09-01</td>\n",
       "      <td>209</td>\n",
       "      <td>3.9</td>\n",
       "      <td>3.519048</td>\n",
       "      <td>2.555000</td>\n",
       "      <td>-9.28708</td>\n",
       "      <td>-0.93387</td>\n",
       "      <td>6.1120</td>\n",
       "      <td>-3.70693</td>\n",
       "      <td>296.761</td>\n",
       "    </tr>\n",
       "  </tbody>\n",
       "</table>\n",
       "<p>105 rows × 10 columns</p>\n",
       "</div>"
      ],
      "text/plain": [
       "           DATE  FORECLOSURE  CAUR  Average DGS       DFF  NASDAQCOM     ZHVI  \\\n",
       "0    2014-01-01         1440   8.2     2.858095  0.071613    1.92538  1.34214   \n",
       "1    2014-02-01          524   8.1     2.709474  0.066429    1.08537  1.13758   \n",
       "2    2014-03-01          611   8.0     2.723333  0.078065    1.83138  0.60021   \n",
       "3    2014-04-01          328   7.8     2.705238  0.090333   -3.67258  0.22288   \n",
       "4    2014-05-01          503   7.7     2.559048  0.087097    0.39007  0.08087   \n",
       "..          ...          ...   ...          ...       ...        ...      ...   \n",
       "100  2022-05-01          170   4.3     2.898095  0.765484  -11.67996  1.39058   \n",
       "101  2022-06-01          196   4.2     3.143333  1.205000   -3.47270  0.29177   \n",
       "102  2022-07-01          147   3.9     2.896000  1.675806    1.78399 -0.40032   \n",
       "103  2022-08-01          214   4.1     2.897826  2.330000    8.15331 -1.15309   \n",
       "104  2022-09-01          209   3.9     3.519048  2.555000   -9.28708 -0.93387   \n",
       "\n",
       "     MORT30US  BofA_Yield_Index_PCH  CA_Consumer_Price_Index  \n",
       "0      4.4320               1.07487                  235.288  \n",
       "1      4.3025               0.87364                  235.547  \n",
       "2      4.3425               1.04621                  236.028  \n",
       "3      4.3375               0.66026                  236.468  \n",
       "4      4.1920               0.88867                  236.918  \n",
       "..        ...                   ...                      ...  \n",
       "100    5.2300              -3.22395                  291.474  \n",
       "101    5.5220              -2.03930                  295.328  \n",
       "102    5.4125              -0.40364                  295.271  \n",
       "103    5.2225               3.38678                  295.620  \n",
       "104    6.1120              -3.70693                  296.761  \n",
       "\n",
       "[105 rows x 10 columns]"
      ]
     },
     "execution_count": 3,
     "metadata": {},
     "output_type": "execute_result"
    }
   ],
   "source": [
    "df"
   ]
  },
  {
   "cell_type": "code",
   "execution_count": 4,
   "id": "f26c540e",
   "metadata": {},
   "outputs": [
    {
     "name": "stdout",
     "output_type": "stream",
     "text": [
      "(105, 9)\n",
      "(105, 1)\n",
      "   DATE_DELTA  CAUR  Average DGS       DFF  NASDAQCOM     ZHVI  \\\n",
      "0         0.0   8.2     2.858095  0.071613    1.92538  1.34214   \n",
      "1        31.0   8.1     2.709474  0.066429    1.08537  1.13758   \n",
      "2        59.0   8.0     2.723333  0.078065    1.83138  0.60021   \n",
      "3        90.0   7.8     2.705238  0.090333   -3.67258  0.22288   \n",
      "4       120.0   7.7     2.559048  0.087097    0.39007  0.08087   \n",
      "\n",
      "   BofA_Yield_Index_PCH  CA_Consumer_Price_Index  MORT30US  \n",
      "0               1.07487                  235.288    4.4320  \n",
      "1               0.87364                  235.547    4.3025  \n",
      "2               1.04621                  236.028    4.3425  \n",
      "3               0.66026                  236.468    4.3375  \n",
      "4               0.88867                  236.918    4.1920  \n",
      "   FORECLOSURE\n",
      "0         1440\n",
      "1          524\n",
      "2          611\n",
      "3          328\n",
      "4          503\n"
     ]
    }
   ],
   "source": [
    "df['DATE'] = pd.to_datetime(df['DATE'])    \n",
    "df['DATE_DELTA'] = (df['DATE'] - df['DATE'].min())  / np.timedelta64(1,'D')\n",
    "feature_labels =['DATE_DELTA','CAUR', 'Average DGS', 'DFF', 'NASDAQCOM' ,'ZHVI','BofA_Yield_Index_PCH','CA_Consumer_Price_Index','MORT30US']\n",
    "X = df[feature_labels]\n",
    "y = df[['FORECLOSURE']]\n",
    "print(X.shape)\n",
    "print(y.shape)\n",
    "print(X.head())\n",
    "print(y.head())"
   ]
  },
  {
   "cell_type": "code",
   "execution_count": 5,
   "id": "d5c6befa",
   "metadata": {},
   "outputs": [
    {
     "name": "stdout",
     "output_type": "stream",
     "text": [
      "(27, 9)\n",
      "(27, 1)\n",
      "     DATE_DELTA  CAUR  Average DGS       DFF  NASDAQCOM     ZHVI  \\\n",
      "29        882.0   5.5     1.644091  0.377667    1.42009  0.50684   \n",
      "65       1977.0   4.0     2.074000  2.377667    0.26442  0.16315   \n",
      "16        485.0   6.4     2.197500  0.123226    0.87205  0.52723   \n",
      "10        304.0   7.1     2.325556  0.092000    6.46052  0.65561   \n",
      "101      3073.0   4.2     3.143333  1.205000   -3.47270  0.29177   \n",
      "2          59.0   8.0     2.723333  0.078065    1.83138  0.60021   \n",
      "13        396.0   6.7     1.975263  0.110714    3.86320  0.65590   \n",
      "24        730.0   5.7     2.085263  0.342903   -8.52738  0.85404   \n",
      "89       2708.0   7.9     1.519091  0.078000    4.28688  2.63157   \n",
      "5         151.0   7.6     2.598571  0.095667    4.77259  0.13118   \n",
      "19        577.0   6.0     2.167143  0.138065   -2.91546  0.29712   \n",
      "85       2588.0   8.6     1.257895  0.075714    4.17695  1.15288   \n",
      "99       3012.0   4.6     2.747500  0.330000   -1.68168  1.87749   \n",
      "53       1612.0   4.2     2.912381  1.819667    4.16675  0.51109   \n",
      "91       2769.0   7.0     1.283182  0.092258    1.48537  1.98385   \n",
      "43       1308.0   4.8     2.209130  1.157097    0.26568  0.34100   \n",
      "41       1247.0   4.9     2.186818  1.040000    1.62302  0.67223   \n",
      "20        608.0   5.9     2.172857  0.136000   -3.78181  0.50292   \n",
      "77       2343.0  14.1     0.728636  0.077667    8.06439 -0.18903   \n",
      "102      3103.0   3.9     2.896000  1.675806    1.78399 -0.40032   \n",
      "26        790.0   5.6     1.889091  0.362258    6.52611  0.38473   \n",
      "80       2435.0  10.3     0.679524  0.090000   -1.10246  1.48596   \n",
      "70       2130.0   4.1     1.812105  1.553333    5.42498  0.26156   \n",
      "14        424.0   6.6     2.042727  0.112903    1.72540  0.70982   \n",
      "54       1642.0   4.2     2.889048  1.910000    1.46137  0.32088   \n",
      "35       1065.0   5.4     2.491905  0.540000    2.89991  0.53325   \n",
      "59       1795.0   4.3     2.832632  2.274194   -5.82899 -0.02636   \n",
      "\n",
      "     BofA_Yield_Index_PCH  CA_Consumer_Price_Index  MORT30US  \n",
      "29                1.39629                  240.222    3.5680  \n",
      "65                0.85292                  255.361    3.8025  \n",
      "16                0.33227                  237.001    3.8400  \n",
      "10                0.25513                  236.983    3.9975  \n",
      "101              -2.03930                  295.328    5.5220  \n",
      "2                 1.04621                  236.028    4.3425  \n",
      "13                1.83100                  235.342    3.7100  \n",
      "24               -2.13674                  237.652    3.8725  \n",
      "89                0.94626                  270.955    2.9750  \n",
      "5                 0.99437                  237.231    4.1625  \n",
      "19               -1.70481                  238.033    3.9050  \n",
      "85                0.79495                  263.346    2.8100  \n",
      "99               -1.61209                  288.663    4.9825  \n",
      "53                0.57344                  251.118    4.5700  \n",
      "91               -0.02646                  273.092    2.8425  \n",
      "43                0.30194                  245.183    3.8800  \n",
      "41                0.64254                  244.163    3.9040  \n",
      "20               -0.65619                  237.498    3.8900  \n",
      "77                5.01153                  257.217    3.1625  \n",
      "102              -0.40364                  295.271    5.4125  \n",
      "26                5.56606                  238.080    3.6940  \n",
      "80               -0.06684                  260.190    2.8900  \n",
      "70                0.32095                  257.788    3.6950  \n",
      "14                0.33258                  235.976    3.7700  \n",
      "54                0.20423                  251.323    4.5275  \n",
      "35                1.71922                  242.637    4.1980  \n",
      "59               -1.32255                  252.551    4.6375  \n"
     ]
    }
   ],
   "source": [
    "X_train, X_test, y_train, y_test = train_test_split(X, y, test_size=0.25, random_state=4)\n",
    "print(X_test.shape)\n",
    "print(y_test.shape)\n",
    "print(X_test)"
   ]
  },
  {
   "cell_type": "code",
   "execution_count": 11,
   "id": "9a2c9149",
   "metadata": {},
   "outputs": [
    {
     "name": "stderr",
     "output_type": "stream",
     "text": [
      "/tmp/ipykernel_20771/969330273.py:2: DataConversionWarning: A column-vector y was passed when a 1d array was expected. Please change the shape of y to (n_samples,), for example using ravel().\n",
      "  regressor.fit(X_train,y_train)\n"
     ]
    },
    {
     "data": {
      "text/html": [
       "<style>#sk-container-id-2 {color: black;background-color: white;}#sk-container-id-2 pre{padding: 0;}#sk-container-id-2 div.sk-toggleable {background-color: white;}#sk-container-id-2 label.sk-toggleable__label {cursor: pointer;display: block;width: 100%;margin-bottom: 0;padding: 0.3em;box-sizing: border-box;text-align: center;}#sk-container-id-2 label.sk-toggleable__label-arrow:before {content: \"▸\";float: left;margin-right: 0.25em;color: #696969;}#sk-container-id-2 label.sk-toggleable__label-arrow:hover:before {color: black;}#sk-container-id-2 div.sk-estimator:hover label.sk-toggleable__label-arrow:before {color: black;}#sk-container-id-2 div.sk-toggleable__content {max-height: 0;max-width: 0;overflow: hidden;text-align: left;background-color: #f0f8ff;}#sk-container-id-2 div.sk-toggleable__content pre {margin: 0.2em;color: black;border-radius: 0.25em;background-color: #f0f8ff;}#sk-container-id-2 input.sk-toggleable__control:checked~div.sk-toggleable__content {max-height: 200px;max-width: 100%;overflow: auto;}#sk-container-id-2 input.sk-toggleable__control:checked~label.sk-toggleable__label-arrow:before {content: \"▾\";}#sk-container-id-2 div.sk-estimator input.sk-toggleable__control:checked~label.sk-toggleable__label {background-color: #d4ebff;}#sk-container-id-2 div.sk-label input.sk-toggleable__control:checked~label.sk-toggleable__label {background-color: #d4ebff;}#sk-container-id-2 input.sk-hidden--visually {border: 0;clip: rect(1px 1px 1px 1px);clip: rect(1px, 1px, 1px, 1px);height: 1px;margin: -1px;overflow: hidden;padding: 0;position: absolute;width: 1px;}#sk-container-id-2 div.sk-estimator {font-family: monospace;background-color: #f0f8ff;border: 1px dotted black;border-radius: 0.25em;box-sizing: border-box;margin-bottom: 0.5em;}#sk-container-id-2 div.sk-estimator:hover {background-color: #d4ebff;}#sk-container-id-2 div.sk-parallel-item::after {content: \"\";width: 100%;border-bottom: 1px solid gray;flex-grow: 1;}#sk-container-id-2 div.sk-label:hover label.sk-toggleable__label {background-color: #d4ebff;}#sk-container-id-2 div.sk-serial::before {content: \"\";position: absolute;border-left: 1px solid gray;box-sizing: border-box;top: 0;bottom: 0;left: 50%;z-index: 0;}#sk-container-id-2 div.sk-serial {display: flex;flex-direction: column;align-items: center;background-color: white;padding-right: 0.2em;padding-left: 0.2em;position: relative;}#sk-container-id-2 div.sk-item {position: relative;z-index: 1;}#sk-container-id-2 div.sk-parallel {display: flex;align-items: stretch;justify-content: center;background-color: white;position: relative;}#sk-container-id-2 div.sk-item::before, #sk-container-id-2 div.sk-parallel-item::before {content: \"\";position: absolute;border-left: 1px solid gray;box-sizing: border-box;top: 0;bottom: 0;left: 50%;z-index: -1;}#sk-container-id-2 div.sk-parallel-item {display: flex;flex-direction: column;z-index: 1;position: relative;background-color: white;}#sk-container-id-2 div.sk-parallel-item:first-child::after {align-self: flex-end;width: 50%;}#sk-container-id-2 div.sk-parallel-item:last-child::after {align-self: flex-start;width: 50%;}#sk-container-id-2 div.sk-parallel-item:only-child::after {width: 0;}#sk-container-id-2 div.sk-dashed-wrapped {border: 1px dashed gray;margin: 0 0.4em 0.5em 0.4em;box-sizing: border-box;padding-bottom: 0.4em;background-color: white;}#sk-container-id-2 div.sk-label label {font-family: monospace;font-weight: bold;display: inline-block;line-height: 1.2em;}#sk-container-id-2 div.sk-label-container {text-align: center;}#sk-container-id-2 div.sk-container {/* jupyter's `normalize.less` sets `[hidden] { display: none; }` but bootstrap.min.css set `[hidden] { display: none !important; }` so we also need the `!important` here to be able to override the default hidden behavior on the sphinx rendered scikit-learn.org. See: https://github.com/scikit-learn/scikit-learn/issues/21755 */display: inline-block !important;position: relative;}#sk-container-id-2 div.sk-text-repr-fallback {display: none;}</style><div id=\"sk-container-id-2\" class=\"sk-top-container\"><div class=\"sk-text-repr-fallback\"><pre>RandomForestRegressor(random_state=9)</pre><b>In a Jupyter environment, please rerun this cell to show the HTML representation or trust the notebook. <br />On GitHub, the HTML representation is unable to render, please try loading this page with nbviewer.org.</b></div><div class=\"sk-container\" hidden><div class=\"sk-item\"><div class=\"sk-estimator sk-toggleable\"><input class=\"sk-toggleable__control sk-hidden--visually\" id=\"sk-estimator-id-2\" type=\"checkbox\" checked><label for=\"sk-estimator-id-2\" class=\"sk-toggleable__label sk-toggleable__label-arrow\">RandomForestRegressor</label><div class=\"sk-toggleable__content\"><pre>RandomForestRegressor(random_state=9)</pre></div></div></div></div></div>"
      ],
      "text/plain": [
       "RandomForestRegressor(random_state=9)"
      ]
     },
     "execution_count": 11,
     "metadata": {},
     "output_type": "execute_result"
    }
   ],
   "source": [
    "regressor = RandomForestRegressor(n_estimators = 100, random_state = 9)\n",
    "regressor.fit(X_train,y_train)"
   ]
  },
  {
   "cell_type": "code",
   "execution_count": 12,
   "id": "2d489a1e",
   "metadata": {},
   "outputs": [
    {
     "data": {
      "text/plain": [
       "array([ 308.05,  189.37,  420.32,  622.57,  233.1 ,  576.03, 1057.58,\n",
       "        416.68,  185.01,  574.49,  331.57,  204.05,  238.71,  148.64,\n",
       "        106.73,   93.89,   69.53,  432.96,  214.13,  332.5 ,  481.23,\n",
       "        107.96,  630.94,  470.33,  167.65,  556.98,  265.78])"
      ]
     },
     "execution_count": 12,
     "metadata": {},
     "output_type": "execute_result"
    }
   ],
   "source": [
    "y_pred = regressor.predict(X_test)\n",
    "y_pred\n"
   ]
  },
  {
   "cell_type": "code",
   "execution_count": 13,
   "id": "5f31282a",
   "metadata": {},
   "outputs": [
    {
     "data": {
      "text/plain": [
       "0.10060699004710283"
      ]
     },
     "execution_count": 13,
     "metadata": {},
     "output_type": "execute_result"
    }
   ],
   "source": [
    "r2_score(y_test,y_pred)"
   ]
  },
  {
   "cell_type": "code",
   "execution_count": 14,
   "id": "18283318",
   "metadata": {},
   "outputs": [
    {
     "name": "stdout",
     "output_type": "stream",
     "text": [
      "     DATE_DELTA  CAUR  Average DGS       DFF  NASDAQCOM     ZHVI  \\\n",
      "29        882.0   5.5     1.644091  0.377667    1.42009  0.50684   \n",
      "65       1977.0   4.0     2.074000  2.377667    0.26442  0.16315   \n",
      "16        485.0   6.4     2.197500  0.123226    0.87205  0.52723   \n",
      "10        304.0   7.1     2.325556  0.092000    6.46052  0.65561   \n",
      "101      3073.0   4.2     3.143333  1.205000   -3.47270  0.29177   \n",
      "2          59.0   8.0     2.723333  0.078065    1.83138  0.60021   \n",
      "13        396.0   6.7     1.975263  0.110714    3.86320  0.65590   \n",
      "24        730.0   5.7     2.085263  0.342903   -8.52738  0.85404   \n",
      "89       2708.0   7.9     1.519091  0.078000    4.28688  2.63157   \n",
      "5         151.0   7.6     2.598571  0.095667    4.77259  0.13118   \n",
      "19        577.0   6.0     2.167143  0.138065   -2.91546  0.29712   \n",
      "85       2588.0   8.6     1.257895  0.075714    4.17695  1.15288   \n",
      "99       3012.0   4.6     2.747500  0.330000   -1.68168  1.87749   \n",
      "53       1612.0   4.2     2.912381  1.819667    4.16675  0.51109   \n",
      "91       2769.0   7.0     1.283182  0.092258    1.48537  1.98385   \n",
      "43       1308.0   4.8     2.209130  1.157097    0.26568  0.34100   \n",
      "41       1247.0   4.9     2.186818  1.040000    1.62302  0.67223   \n",
      "20        608.0   5.9     2.172857  0.136000   -3.78181  0.50292   \n",
      "77       2343.0  14.1     0.728636  0.077667    8.06439 -0.18903   \n",
      "102      3103.0   3.9     2.896000  1.675806    1.78399 -0.40032   \n",
      "26        790.0   5.6     1.889091  0.362258    6.52611  0.38473   \n",
      "80       2435.0  10.3     0.679524  0.090000   -1.10246  1.48596   \n",
      "70       2130.0   4.1     1.812105  1.553333    5.42498  0.26156   \n",
      "14        424.0   6.6     2.042727  0.112903    1.72540  0.70982   \n",
      "54       1642.0   4.2     2.889048  1.910000    1.46137  0.32088   \n",
      "35       1065.0   5.4     2.491905  0.540000    2.89991  0.53325   \n",
      "59       1795.0   4.3     2.832632  2.274194   -5.82899 -0.02636   \n",
      "\n",
      "     BofA_Yield_Index_PCH  CA_Consumer_Price_Index  MORT30US  \n",
      "29                1.39629                  240.222    3.5680  \n",
      "65                0.85292                  255.361    3.8025  \n",
      "16                0.33227                  237.001    3.8400  \n",
      "10                0.25513                  236.983    3.9975  \n",
      "101              -2.03930                  295.328    5.5220  \n",
      "2                 1.04621                  236.028    4.3425  \n",
      "13                1.83100                  235.342    3.7100  \n",
      "24               -2.13674                  237.652    3.8725  \n",
      "89                0.94626                  270.955    2.9750  \n",
      "5                 0.99437                  237.231    4.1625  \n",
      "19               -1.70481                  238.033    3.9050  \n",
      "85                0.79495                  263.346    2.8100  \n",
      "99               -1.61209                  288.663    4.9825  \n",
      "53                0.57344                  251.118    4.5700  \n",
      "91               -0.02646                  273.092    2.8425  \n",
      "43                0.30194                  245.183    3.8800  \n",
      "41                0.64254                  244.163    3.9040  \n",
      "20               -0.65619                  237.498    3.8900  \n",
      "77                5.01153                  257.217    3.1625  \n",
      "102              -0.40364                  295.271    5.4125  \n",
      "26                5.56606                  238.080    3.6940  \n",
      "80               -0.06684                  260.190    2.8900  \n",
      "70                0.32095                  257.788    3.6950  \n",
      "14                0.33258                  235.976    3.7700  \n",
      "54                0.20423                  251.323    4.5275  \n",
      "35                1.71922                  242.637    4.1980  \n",
      "59               -1.32255                  252.551    4.6375  \n"
     ]
    }
   ],
   "source": [
    "print(X_test)"
   ]
  },
  {
   "cell_type": "markdown",
   "id": "981b1127",
   "metadata": {},
   "source": [
    "<h2>Plot results</h2>"
   ]
  },
  {
   "cell_type": "code",
   "execution_count": 15,
   "id": "28167ff6",
   "metadata": {},
   "outputs": [
    {
     "data": {
      "image/png": "[encoded data removed]",
      "text/plain": [
       "<Figure size 640x480 with 1 Axes>"
      ]
     },
     "metadata": {},
     "output_type": "display_data"
    }
   ],
   "source": [
    "import matplotlib.pyplot as plt\n",
    "\n",
    "# Plot the results\n",
    "plt.figure()\n",
    "plt.plot(X['DATE_DELTA'], y, color=\"greenyellow\", lw=1, label=\"data\")\n",
    "plt.scatter(X['DATE_DELTA'], y,s=25, edgecolor=\"white\", c=\"greenyellow\", label=\"actual\")\n",
    "plt.scatter(X_test['DATE_DELTA'], y_pred,s=50, edgecolor=\"black\", c=\"blue\", label=\"y_pred\")\n",
    "plt.scatter(X_test['DATE_DELTA'], y_test, s=50, edgecolor=\"black\", c=\"yellowgreen\", label=\"y_actual\")\n",
    "\n",
    "plt.xlabel(\"Date\")\n",
    "plt.ylabel(\"target\")\n",
    "plt.title(\"Decision Tree Regression\")\n",
    "plt.legend()\n",
    "plt.show()"
   ]
  },
  {
   "cell_type": "code",
   "execution_count": null,
   "id": "ba1cea6e",
   "metadata": {},
   "outputs": [],
   "source": []
  }
 ],
 "metadata": {
  "kernelspec": {
   "display_name": "Python 3 (ipykernel)",
   "language": "python",
   "name": "python3"
  },
  "language_info": {
   "codemirror_mode": {
    "name": "ipython",
    "version": 3
   },
   "file_extension": ".py",
   "mimetype": "text/x-python",
   "name": "python",
   "nbconvert_exporter": "python",
   "pygments_lexer": "ipython3",
   "version": "3.10.8"
  }
 },
 "nbformat": 4,
 "nbformat_minor": 5
}
