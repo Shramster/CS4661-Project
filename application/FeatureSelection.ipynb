{
 "cells": [
  {
   "cell_type": "markdown",
   "id": "2d724486",
   "metadata": {},
   "source": [
    "<h1>Erik Blood Development Notebook</h1>\n",
    "<h2>Feature Selection </h2>\n",
    "<p>In this notebook I will be experimenting with the data set </p>"
   ]
  },
  {
   "cell_type": "code",
   "execution_count": 1,
   "id": "10d4be7c",
   "metadata": {},
   "outputs": [],
   "source": [
    "import pandas as pd\n",
    "import numpy as np\n",
    "from sklearn import preprocessing\n",
    "from sklearn.model_selection import train_test_split\n",
    "from sklearn.ensemble import RandomForestRegressor\n",
    "from sklearn.metrics import r2_score\n"
   ]
  },
  {
   "cell_type": "markdown",
   "id": "4ea1b64b",
   "metadata": {},
   "source": [
    "<h2> Read data set, assign features and split into X and y </h2>"
   ]
  },
  {
   "cell_type": "code",
   "execution_count": 2,
   "id": "8546e1d8",
   "metadata": {},
   "outputs": [],
   "source": [
    "df = pd.read_csv(\"../dataset/1-CombinedDataset.csv\", index_col=0)\n",
    "#.rename(columns={'NASDAQCOM': 'NASDAQ', 'BofA_Yield_Index_PCH': 'BofA_Yeild','CA_Consumer_Price_Index':'CONSUM_PI','FORECLOSURE':'FORE','Average DGS':'DGS'})"
   ]
  },
  {
   "cell_type": "code",
   "execution_count": 3,
   "id": "4aa5423b",
   "metadata": {},
   "outputs": [
    {
     "data": {
      "text/html": [
       "<div>\n",
       "<style scoped>\n",
       "    .dataframe tbody tr th:only-of-type {\n",
       "        vertical-align: middle;\n",
       "    }\n",
       "\n",
       "    .dataframe tbody tr th {\n",
       "        vertical-align: top;\n",
       "    }\n",
       "\n",
       "    .dataframe thead th {\n",
       "        text-align: right;\n",
       "    }\n",
       "</style>\n",
       "<table border=\"1\" class=\"dataframe\">\n",
       "  <thead>\n",
       "    <tr style=\"text-align: right;\">\n",
       "      <th></th>\n",
       "      <th>DATE</th>\n",
       "      <th>FORECLOSURE</th>\n",
       "      <th>CAUR</th>\n",
       "      <th>Average DGS</th>\n",
       "      <th>DFF</th>\n",
       "      <th>NASDAQCOM</th>\n",
       "      <th>ZHVI</th>\n",
       "      <th>MORT30US</th>\n",
       "      <th>BofA_Yield_Index_PCH</th>\n",
       "      <th>CA_Consumer_Price_Index</th>\n",
       "      <th>CPI STICKY</th>\n",
       "    </tr>\n",
       "  </thead>\n",
       "  <tbody>\n",
       "    <tr>\n",
       "      <th>0</th>\n",
       "      <td>2014-01-01</td>\n",
       "      <td>1440</td>\n",
       "      <td>8.2</td>\n",
       "      <td>2.858095</td>\n",
       "      <td>0.071613</td>\n",
       "      <td>1.92538</td>\n",
       "      <td>1.34214</td>\n",
       "      <td>4.4320</td>\n",
       "      <td>1.07487</td>\n",
       "      <td>235.288</td>\n",
       "      <td>1.821814</td>\n",
       "    </tr>\n",
       "    <tr>\n",
       "      <th>1</th>\n",
       "      <td>2014-02-01</td>\n",
       "      <td>524</td>\n",
       "      <td>8.1</td>\n",
       "      <td>2.709474</td>\n",
       "      <td>0.066429</td>\n",
       "      <td>1.08537</td>\n",
       "      <td>1.13758</td>\n",
       "      <td>4.3025</td>\n",
       "      <td>0.87364</td>\n",
       "      <td>235.547</td>\n",
       "      <td>1.789186</td>\n",
       "    </tr>\n",
       "    <tr>\n",
       "      <th>2</th>\n",
       "      <td>2014-03-01</td>\n",
       "      <td>611</td>\n",
       "      <td>8.0</td>\n",
       "      <td>2.723333</td>\n",
       "      <td>0.078065</td>\n",
       "      <td>1.83138</td>\n",
       "      <td>0.60021</td>\n",
       "      <td>4.3425</td>\n",
       "      <td>1.04621</td>\n",
       "      <td>236.028</td>\n",
       "      <td>1.820857</td>\n",
       "    </tr>\n",
       "    <tr>\n",
       "      <th>3</th>\n",
       "      <td>2014-04-01</td>\n",
       "      <td>328</td>\n",
       "      <td>7.8</td>\n",
       "      <td>2.705238</td>\n",
       "      <td>0.090333</td>\n",
       "      <td>-3.67258</td>\n",
       "      <td>0.22288</td>\n",
       "      <td>4.3375</td>\n",
       "      <td>0.66026</td>\n",
       "      <td>236.468</td>\n",
       "      <td>2.025161</td>\n",
       "    </tr>\n",
       "    <tr>\n",
       "      <th>4</th>\n",
       "      <td>2014-05-01</td>\n",
       "      <td>503</td>\n",
       "      <td>7.7</td>\n",
       "      <td>2.559048</td>\n",
       "      <td>0.087097</td>\n",
       "      <td>0.39007</td>\n",
       "      <td>0.08087</td>\n",
       "      <td>4.1920</td>\n",
       "      <td>0.88867</td>\n",
       "      <td>236.918</td>\n",
       "      <td>2.128235</td>\n",
       "    </tr>\n",
       "    <tr>\n",
       "      <th>...</th>\n",
       "      <td>...</td>\n",
       "      <td>...</td>\n",
       "      <td>...</td>\n",
       "      <td>...</td>\n",
       "      <td>...</td>\n",
       "      <td>...</td>\n",
       "      <td>...</td>\n",
       "      <td>...</td>\n",
       "      <td>...</td>\n",
       "      <td>...</td>\n",
       "      <td>...</td>\n",
       "    </tr>\n",
       "    <tr>\n",
       "      <th>100</th>\n",
       "      <td>2022-05-01</td>\n",
       "      <td>170</td>\n",
       "      <td>4.3</td>\n",
       "      <td>2.898095</td>\n",
       "      <td>0.765484</td>\n",
       "      <td>-11.67996</td>\n",
       "      <td>1.39058</td>\n",
       "      <td>5.2300</td>\n",
       "      <td>-3.22395</td>\n",
       "      <td>291.474</td>\n",
       "      <td>4.975575</td>\n",
       "    </tr>\n",
       "    <tr>\n",
       "      <th>101</th>\n",
       "      <td>2022-06-01</td>\n",
       "      <td>196</td>\n",
       "      <td>4.2</td>\n",
       "      <td>3.143333</td>\n",
       "      <td>1.205000</td>\n",
       "      <td>-3.47270</td>\n",
       "      <td>0.29177</td>\n",
       "      <td>5.5220</td>\n",
       "      <td>-2.03930</td>\n",
       "      <td>295.328</td>\n",
       "      <td>5.425963</td>\n",
       "    </tr>\n",
       "    <tr>\n",
       "      <th>102</th>\n",
       "      <td>2022-07-01</td>\n",
       "      <td>147</td>\n",
       "      <td>3.9</td>\n",
       "      <td>2.896000</td>\n",
       "      <td>1.675806</td>\n",
       "      <td>1.78399</td>\n",
       "      <td>-0.40032</td>\n",
       "      <td>5.4125</td>\n",
       "      <td>-0.40364</td>\n",
       "      <td>295.271</td>\n",
       "      <td>5.629465</td>\n",
       "    </tr>\n",
       "    <tr>\n",
       "      <th>103</th>\n",
       "      <td>2022-08-01</td>\n",
       "      <td>214</td>\n",
       "      <td>4.1</td>\n",
       "      <td>2.897826</td>\n",
       "      <td>2.330000</td>\n",
       "      <td>8.15331</td>\n",
       "      <td>-1.15309</td>\n",
       "      <td>5.2225</td>\n",
       "      <td>3.38678</td>\n",
       "      <td>295.620</td>\n",
       "      <td>5.990544</td>\n",
       "    </tr>\n",
       "    <tr>\n",
       "      <th>104</th>\n",
       "      <td>2022-09-01</td>\n",
       "      <td>209</td>\n",
       "      <td>3.9</td>\n",
       "      <td>3.519048</td>\n",
       "      <td>2.555000</td>\n",
       "      <td>-9.28708</td>\n",
       "      <td>-0.93387</td>\n",
       "      <td>6.1120</td>\n",
       "      <td>-3.70693</td>\n",
       "      <td>296.761</td>\n",
       "      <td>6.393735</td>\n",
       "    </tr>\n",
       "  </tbody>\n",
       "</table>\n",
       "<p>105 rows × 11 columns</p>\n",
       "</div>"
      ],
      "text/plain": [
       "           DATE  FORECLOSURE  CAUR  Average DGS       DFF  NASDAQCOM     ZHVI  \\\n",
       "0    2014-01-01         1440   8.2     2.858095  0.071613    1.92538  1.34214   \n",
       "1    2014-02-01          524   8.1     2.709474  0.066429    1.08537  1.13758   \n",
       "2    2014-03-01          611   8.0     2.723333  0.078065    1.83138  0.60021   \n",
       "3    2014-04-01          328   7.8     2.705238  0.090333   -3.67258  0.22288   \n",
       "4    2014-05-01          503   7.7     2.559048  0.087097    0.39007  0.08087   \n",
       "..          ...          ...   ...          ...       ...        ...      ...   \n",
       "100  2022-05-01          170   4.3     2.898095  0.765484  -11.67996  1.39058   \n",
       "101  2022-06-01          196   4.2     3.143333  1.205000   -3.47270  0.29177   \n",
       "102  2022-07-01          147   3.9     2.896000  1.675806    1.78399 -0.40032   \n",
       "103  2022-08-01          214   4.1     2.897826  2.330000    8.15331 -1.15309   \n",
       "104  2022-09-01          209   3.9     3.519048  2.555000   -9.28708 -0.93387   \n",
       "\n",
       "     MORT30US  BofA_Yield_Index_PCH  CA_Consumer_Price_Index  CPI STICKY  \n",
       "0      4.4320               1.07487                  235.288    1.821814  \n",
       "1      4.3025               0.87364                  235.547    1.789186  \n",
       "2      4.3425               1.04621                  236.028    1.820857  \n",
       "3      4.3375               0.66026                  236.468    2.025161  \n",
       "4      4.1920               0.88867                  236.918    2.128235  \n",
       "..        ...                   ...                      ...         ...  \n",
       "100    5.2300              -3.22395                  291.474    4.975575  \n",
       "101    5.5220              -2.03930                  295.328    5.425963  \n",
       "102    5.4125              -0.40364                  295.271    5.629465  \n",
       "103    5.2225               3.38678                  295.620    5.990544  \n",
       "104    6.1120              -3.70693                  296.761    6.393735  \n",
       "\n",
       "[105 rows x 11 columns]"
      ]
     },
     "execution_count": 3,
     "metadata": {},
     "output_type": "execute_result"
    }
   ],
   "source": [
    "df"
   ]
  },
  {
   "cell_type": "markdown",
   "id": "577372cd",
   "metadata": {},
   "source": []
  },
  {
   "cell_type": "code",
   "execution_count": 4,
   "id": "f26c540e",
   "metadata": {},
   "outputs": [
    {
     "data": {
      "text/html": [
       "<div>\n",
       "<style scoped>\n",
       "    .dataframe tbody tr th:only-of-type {\n",
       "        vertical-align: middle;\n",
       "    }\n",
       "\n",
       "    .dataframe tbody tr th {\n",
       "        vertical-align: top;\n",
       "    }\n",
       "\n",
       "    .dataframe thead th {\n",
       "        text-align: right;\n",
       "    }\n",
       "</style>\n",
       "<table border=\"1\" class=\"dataframe\">\n",
       "  <thead>\n",
       "    <tr style=\"text-align: right;\">\n",
       "      <th></th>\n",
       "      <th>DATE_DELTA</th>\n",
       "      <th>DFF</th>\n",
       "      <th>NASDAQCOM</th>\n",
       "      <th>CA_Consumer_Price_Index</th>\n",
       "      <th>CPI STICKY</th>\n",
       "      <th>mnth_cos</th>\n",
       "    </tr>\n",
       "  </thead>\n",
       "  <tbody>\n",
       "    <tr>\n",
       "      <th>0</th>\n",
       "      <td>0.0</td>\n",
       "      <td>0.071613</td>\n",
       "      <td>1.92538</td>\n",
       "      <td>235.288</td>\n",
       "      <td>1.821814</td>\n",
       "      <td>1.000000e+00</td>\n",
       "    </tr>\n",
       "    <tr>\n",
       "      <th>1</th>\n",
       "      <td>31.0</td>\n",
       "      <td>0.066429</td>\n",
       "      <td>1.08537</td>\n",
       "      <td>235.547</td>\n",
       "      <td>1.789186</td>\n",
       "      <td>8.660254e-01</td>\n",
       "    </tr>\n",
       "    <tr>\n",
       "      <th>2</th>\n",
       "      <td>59.0</td>\n",
       "      <td>0.078065</td>\n",
       "      <td>1.83138</td>\n",
       "      <td>236.028</td>\n",
       "      <td>1.820857</td>\n",
       "      <td>5.000000e-01</td>\n",
       "    </tr>\n",
       "    <tr>\n",
       "      <th>3</th>\n",
       "      <td>90.0</td>\n",
       "      <td>0.090333</td>\n",
       "      <td>-3.67258</td>\n",
       "      <td>236.468</td>\n",
       "      <td>2.025161</td>\n",
       "      <td>6.123234e-17</td>\n",
       "    </tr>\n",
       "    <tr>\n",
       "      <th>4</th>\n",
       "      <td>120.0</td>\n",
       "      <td>0.087097</td>\n",
       "      <td>0.39007</td>\n",
       "      <td>236.918</td>\n",
       "      <td>2.128235</td>\n",
       "      <td>-5.000000e-01</td>\n",
       "    </tr>\n",
       "    <tr>\n",
       "      <th>...</th>\n",
       "      <td>...</td>\n",
       "      <td>...</td>\n",
       "      <td>...</td>\n",
       "      <td>...</td>\n",
       "      <td>...</td>\n",
       "      <td>...</td>\n",
       "    </tr>\n",
       "    <tr>\n",
       "      <th>100</th>\n",
       "      <td>3042.0</td>\n",
       "      <td>0.765484</td>\n",
       "      <td>-11.67996</td>\n",
       "      <td>291.474</td>\n",
       "      <td>4.975575</td>\n",
       "      <td>-5.000000e-01</td>\n",
       "    </tr>\n",
       "    <tr>\n",
       "      <th>101</th>\n",
       "      <td>3073.0</td>\n",
       "      <td>1.205000</td>\n",
       "      <td>-3.47270</td>\n",
       "      <td>295.328</td>\n",
       "      <td>5.425963</td>\n",
       "      <td>-8.660254e-01</td>\n",
       "    </tr>\n",
       "    <tr>\n",
       "      <th>102</th>\n",
       "      <td>3103.0</td>\n",
       "      <td>1.675806</td>\n",
       "      <td>1.78399</td>\n",
       "      <td>295.271</td>\n",
       "      <td>5.629465</td>\n",
       "      <td>-1.000000e+00</td>\n",
       "    </tr>\n",
       "    <tr>\n",
       "      <th>103</th>\n",
       "      <td>3134.0</td>\n",
       "      <td>2.330000</td>\n",
       "      <td>8.15331</td>\n",
       "      <td>295.620</td>\n",
       "      <td>5.990544</td>\n",
       "      <td>-8.660254e-01</td>\n",
       "    </tr>\n",
       "    <tr>\n",
       "      <th>104</th>\n",
       "      <td>3165.0</td>\n",
       "      <td>2.555000</td>\n",
       "      <td>-9.28708</td>\n",
       "      <td>296.761</td>\n",
       "      <td>6.393735</td>\n",
       "      <td>-5.000000e-01</td>\n",
       "    </tr>\n",
       "  </tbody>\n",
       "</table>\n",
       "<p>105 rows × 6 columns</p>\n",
       "</div>"
      ],
      "text/plain": [
       "     DATE_DELTA       DFF  NASDAQCOM  CA_Consumer_Price_Index  CPI STICKY  \\\n",
       "0           0.0  0.071613    1.92538                  235.288    1.821814   \n",
       "1          31.0  0.066429    1.08537                  235.547    1.789186   \n",
       "2          59.0  0.078065    1.83138                  236.028    1.820857   \n",
       "3          90.0  0.090333   -3.67258                  236.468    2.025161   \n",
       "4         120.0  0.087097    0.39007                  236.918    2.128235   \n",
       "..          ...       ...        ...                      ...         ...   \n",
       "100      3042.0  0.765484  -11.67996                  291.474    4.975575   \n",
       "101      3073.0  1.205000   -3.47270                  295.328    5.425963   \n",
       "102      3103.0  1.675806    1.78399                  295.271    5.629465   \n",
       "103      3134.0  2.330000    8.15331                  295.620    5.990544   \n",
       "104      3165.0  2.555000   -9.28708                  296.761    6.393735   \n",
       "\n",
       "         mnth_cos  \n",
       "0    1.000000e+00  \n",
       "1    8.660254e-01  \n",
       "2    5.000000e-01  \n",
       "3    6.123234e-17  \n",
       "4   -5.000000e-01  \n",
       "..            ...  \n",
       "100 -5.000000e-01  \n",
       "101 -8.660254e-01  \n",
       "102 -1.000000e+00  \n",
       "103 -8.660254e-01  \n",
       "104 -5.000000e-01  \n",
       "\n",
       "[105 rows x 6 columns]"
      ]
     },
     "execution_count": 4,
     "metadata": {},
     "output_type": "execute_result"
    }
   ],
   "source": [
    "df['mnth_sin'] = df['DATE'].apply(lambda x: np.sin((int(x[5:7])-1)*(2.*np.pi/12)))\n",
    "df['mnth_cos'] = df['DATE'].apply(lambda x: np.cos((int(x[5:7])-1)*(2.*np.pi/12)))\n",
    "\n",
    "\n",
    "df['DATE'] = pd.to_datetime(df['DATE']) \n",
    "df['DATE_DELTA'] = (df['DATE'] - df['DATE'].min())  / np.timedelta64(1,'D')\n",
    "\n",
    "#feature_labels =['DATE_DELTA','CAUR', 'Average DGS', 'DFF', 'NASDAQCOM' ,'ZHVI','BofA_Yield_Index_PCH','CA_Consumer_Price_Index','MORT30US','CPI STICKY', 'mnth_sin','mnth_cos']\n",
    "## These are the most influential features in the dataset, however leaving them out\n",
    "## detracts from the random forrest regression ability to forecast foreclosures\n",
    "\n",
    "feature_labels =['DATE_DELTA', 'DFF', 'NASDAQCOM' ,'CA_Consumer_Price_Index','CPI STICKY', 'mnth_cos']\n",
    "\n",
    "X = df[feature_labels]\n",
    "y = df[['FORECLOSURE']]\n",
    "X"
   ]
  },
  {
   "cell_type": "code",
   "execution_count": 5,
   "id": "d5c6befa",
   "metadata": {},
   "outputs": [
    {
     "data": {
      "text/plain": [
       "(78, 6)"
      ]
     },
     "execution_count": 5,
     "metadata": {},
     "output_type": "execute_result"
    }
   ],
   "source": [
    "X_train, X_test, y_train, y_test = train_test_split(X, y, test_size=0.25, random_state=55)\n",
    "#X_train = preprocessing.scale(X_train)\n",
    "X_train.shape"
   ]
  },
  {
   "cell_type": "code",
   "execution_count": 6,
   "id": "e32ae3df",
   "metadata": {},
   "outputs": [
    {
     "name": "stderr",
     "output_type": "stream",
     "text": [
      "/home/shram/.local/lib/python3.10/site-packages/sklearn/utils/validation.py:1111: DataConversionWarning: A column-vector y was passed when a 1d array was expected. Please change the shape of y to (n_samples, ), for example using ravel().\n",
      "  y = column_or_1d(y, warn=True)\n"
     ]
    },
    {
     "name": "stdout",
     "output_type": "stream",
     "text": [
      "Feature 0: 8.416670\n",
      "Feature 1: 1.571256\n",
      "Feature 2: 0.788977\n",
      "Feature 3: 5.826230\n",
      "Feature 4: 1.238270\n",
      "Feature 5: 16.351969\n"
     ]
    },
    {
     "data": {
      "image/png": "[encoded data removed]",
      "text/plain": [
       "<Figure size 640x480 with 1 Axes>"
      ]
     },
     "metadata": {},
     "output_type": "display_data"
    }
   ],
   "source": [
    "# example of correlation feature selection for numerical data\n",
    "from sklearn.datasets import make_regression\n",
    "from sklearn.model_selection import train_test_split\n",
    "from sklearn.feature_selection import SelectKBest\n",
    "from sklearn.feature_selection import f_regression\n",
    "from matplotlib import pyplot\n",
    "\n",
    "# feature selection\n",
    "def select_features(X_train, y_train, X_test):\n",
    "\t# configure to select all features\n",
    "\tfs = SelectKBest(score_func=f_regression, k='all')\n",
    "\t# learn relationship from training data\n",
    "\tfs.fit(X_train, y_train)\n",
    "\t# transform train input data\n",
    "\tX_train_fs = fs.transform(X_train)\n",
    "\t# transform test input data\n",
    "\tX_test_fs = fs.transform(X_test)\n",
    "\treturn X_train_fs, X_test_fs, fs\n",
    "\n",
    "# feature selection\n",
    "X_train_fs, X_test_fs, fs = select_features(X_train, y_train, X_test)\n",
    "# what are scores for the features\n",
    "for i in range(len(fs.scores_)):\n",
    "\tprint('Feature %d: %f' % (i, fs.scores_[i]))\n",
    "# plot the scores\n",
    "pyplot.bar([i for i in range(0,len(fs.scores_))], fs.scores_ )\n",
    "pyplot.show()\n"
   ]
  },
  {
   "cell_type": "code",
   "execution_count": 7,
   "id": "9a2c9149",
   "metadata": {},
   "outputs": [
    {
     "name": "stderr",
     "output_type": "stream",
     "text": [
      "/tmp/ipykernel_36316/969330273.py:2: DataConversionWarning: A column-vector y was passed when a 1d array was expected. Please change the shape of y to (n_samples,), for example using ravel().\n",
      "  regressor.fit(X_train,y_train)\n"
     ]
    },
    {
     "data": {
      "text/html": [
       "<style>#sk-container-id-1 {color: black;background-color: white;}#sk-container-id-1 pre{padding: 0;}#sk-container-id-1 div.sk-toggleable {background-color: white;}#sk-container-id-1 label.sk-toggleable__label {cursor: pointer;display: block;width: 100%;margin-bottom: 0;padding: 0.3em;box-sizing: border-box;text-align: center;}#sk-container-id-1 label.sk-toggleable__label-arrow:before {content: \"▸\";float: left;margin-right: 0.25em;color: #696969;}#sk-container-id-1 label.sk-toggleable__label-arrow:hover:before {color: black;}#sk-container-id-1 div.sk-estimator:hover label.sk-toggleable__label-arrow:before {color: black;}#sk-container-id-1 div.sk-toggleable__content {max-height: 0;max-width: 0;overflow: hidden;text-align: left;background-color: #f0f8ff;}#sk-container-id-1 div.sk-toggleable__content pre {margin: 0.2em;color: black;border-radius: 0.25em;background-color: #f0f8ff;}#sk-container-id-1 input.sk-toggleable__control:checked~div.sk-toggleable__content {max-height: 200px;max-width: 100%;overflow: auto;}#sk-container-id-1 input.sk-toggleable__control:checked~label.sk-toggleable__label-arrow:before {content: \"▾\";}#sk-container-id-1 div.sk-estimator input.sk-toggleable__control:checked~label.sk-toggleable__label {background-color: #d4ebff;}#sk-container-id-1 div.sk-label input.sk-toggleable__control:checked~label.sk-toggleable__label {background-color: #d4ebff;}#sk-container-id-1 input.sk-hidden--visually {border: 0;clip: rect(1px 1px 1px 1px);clip: rect(1px, 1px, 1px, 1px);height: 1px;margin: -1px;overflow: hidden;padding: 0;position: absolute;width: 1px;}#sk-container-id-1 div.sk-estimator {font-family: monospace;background-color: #f0f8ff;border: 1px dotted black;border-radius: 0.25em;box-sizing: border-box;margin-bottom: 0.5em;}#sk-container-id-1 div.sk-estimator:hover {background-color: #d4ebff;}#sk-container-id-1 div.sk-parallel-item::after {content: \"\";width: 100%;border-bottom: 1px solid gray;flex-grow: 1;}#sk-container-id-1 div.sk-label:hover label.sk-toggleable__label {background-color: #d4ebff;}#sk-container-id-1 div.sk-serial::before {content: \"\";position: absolute;border-left: 1px solid gray;box-sizing: border-box;top: 0;bottom: 0;left: 50%;z-index: 0;}#sk-container-id-1 div.sk-serial {display: flex;flex-direction: column;align-items: center;background-color: white;padding-right: 0.2em;padding-left: 0.2em;position: relative;}#sk-container-id-1 div.sk-item {position: relative;z-index: 1;}#sk-container-id-1 div.sk-parallel {display: flex;align-items: stretch;justify-content: center;background-color: white;position: relative;}#sk-container-id-1 div.sk-item::before, #sk-container-id-1 div.sk-parallel-item::before {content: \"\";position: absolute;border-left: 1px solid gray;box-sizing: border-box;top: 0;bottom: 0;left: 50%;z-index: -1;}#sk-container-id-1 div.sk-parallel-item {display: flex;flex-direction: column;z-index: 1;position: relative;background-color: white;}#sk-container-id-1 div.sk-parallel-item:first-child::after {align-self: flex-end;width: 50%;}#sk-container-id-1 div.sk-parallel-item:last-child::after {align-self: flex-start;width: 50%;}#sk-container-id-1 div.sk-parallel-item:only-child::after {width: 0;}#sk-container-id-1 div.sk-dashed-wrapped {border: 1px dashed gray;margin: 0 0.4em 0.5em 0.4em;box-sizing: border-box;padding-bottom: 0.4em;background-color: white;}#sk-container-id-1 div.sk-label label {font-family: monospace;font-weight: bold;display: inline-block;line-height: 1.2em;}#sk-container-id-1 div.sk-label-container {text-align: center;}#sk-container-id-1 div.sk-container {/* jupyter's `normalize.less` sets `[hidden] { display: none; }` but bootstrap.min.css set `[hidden] { display: none !important; }` so we also need the `!important` here to be able to override the default hidden behavior on the sphinx rendered scikit-learn.org. See: https://github.com/scikit-learn/scikit-learn/issues/21755 */display: inline-block !important;position: relative;}#sk-container-id-1 div.sk-text-repr-fallback {display: none;}</style><div id=\"sk-container-id-1\" class=\"sk-top-container\"><div class=\"sk-text-repr-fallback\"><pre>RandomForestRegressor(random_state=9)</pre><b>In a Jupyter environment, please rerun this cell to show the HTML representation or trust the notebook. <br />On GitHub, the HTML representation is unable to render, please try loading this page with nbviewer.org.</b></div><div class=\"sk-container\" hidden><div class=\"sk-item\"><div class=\"sk-estimator sk-toggleable\"><input class=\"sk-toggleable__control sk-hidden--visually\" id=\"sk-estimator-id-1\" type=\"checkbox\" checked><label for=\"sk-estimator-id-1\" class=\"sk-toggleable__label sk-toggleable__label-arrow\">RandomForestRegressor</label><div class=\"sk-toggleable__content\"><pre>RandomForestRegressor(random_state=9)</pre></div></div></div></div></div>"
      ],
      "text/plain": [
       "RandomForestRegressor(random_state=9)"
      ]
     },
     "execution_count": 7,
     "metadata": {},
     "output_type": "execute_result"
    }
   ],
   "source": [
    "regressor = RandomForestRegressor(n_estimators = 100, random_state = 9)\n",
    "regressor.fit(X_train,y_train)"
   ]
  },
  {
   "cell_type": "code",
   "execution_count": 8,
   "id": "2d489a1e",
   "metadata": {},
   "outputs": [
    {
     "data": {
      "text/plain": [
       "array([ 288.57,  104.89,  214.56,  218.75,   83.23, 1622.45,  191.46,\n",
       "         82.35,  341.98,  116.02,  577.28,  187.99,  451.06,  397.47,\n",
       "        492.95,   92.68,  390.25,  167.94,  416.43,  225.91,   79.76,\n",
       "        100.28,  641.23,  127.78,  479.54,  160.45,   84.74])"
      ]
     },
     "execution_count": 8,
     "metadata": {},
     "output_type": "execute_result"
    }
   ],
   "source": [
    "y_pred = regressor.predict(X_test)\n",
    "y_pred\n"
   ]
  },
  {
   "cell_type": "code",
   "execution_count": 9,
   "id": "5f31282a",
   "metadata": {},
   "outputs": [
    {
     "data": {
      "text/plain": [
       "0.367434531678798"
      ]
     },
     "execution_count": 9,
     "metadata": {},
     "output_type": "execute_result"
    }
   ],
   "source": [
    "r2_score(y_test,y_pred)"
   ]
  },
  {
   "cell_type": "code",
   "execution_count": 10,
   "id": "18283318",
   "metadata": {},
   "outputs": [
    {
     "name": "stdout",
     "output_type": "stream",
     "text": [
      "     DATE_DELTA       DFF  NASDAQCOM  CA_Consumer_Price_Index  CPI STICKY  \\\n",
      "28        851.0  0.365161   -2.12447                  239.557    2.571157   \n",
      "38       1155.0  0.786129    1.73924                  243.892    2.453344   \n",
      "103      3134.0  2.330000    8.15331                  295.620    5.990544   \n",
      "100      3042.0  0.765484  -11.67996                  291.474    4.975575   \n",
      "89       2708.0  0.078000    4.28688                  270.955    2.604632   \n",
      "36       1096.0  0.649677    2.73977                  243.618    2.661562   \n",
      "102      3103.0  1.675806    1.78399                  295.271    5.629465   \n",
      "47       1430.0  1.301613    1.37867                  247.805    2.125472   \n",
      "17        516.0  0.129000    0.86710                  237.657    2.114733   \n",
      "85       2588.0  0.075714    4.17695                  263.346    1.520784   \n",
      "5         151.0  0.095667    4.77259                  237.231    2.143341   \n",
      "67       2038.0  2.125806   -3.59104                  256.179    2.633395   \n",
      "9         273.0  0.089032   -3.25943                  237.430    2.006019   \n",
      "6         181.0  0.090968    2.34003                  237.498    2.100809   \n",
      "22        669.0  0.117667    4.17030                  238.017    2.405261   \n",
      "90       2738.0  0.098065    3.84406                  272.184    2.325734   \n",
      "4         120.0  0.087097    0.39007                  236.918    2.128235   \n",
      "65       1977.0  2.377667    0.26442                  255.361    2.431727   \n",
      "23        699.0  0.240645   -0.82572                  237.761    2.443687   \n",
      "73       2222.0  1.583103    2.00891                  259.007    2.812655   \n",
      "41       1247.0  1.040000    1.62302                  244.163    2.138530   \n",
      "82       2496.0  0.086333    3.14141                  260.721    1.786708   \n",
      "14        424.0  0.112903    1.72540                  235.976    1.999137   \n",
      "79       2404.0  0.095161    6.78511                  259.580    2.297196   \n",
      "8         243.0  0.088333    1.94307                  237.477    1.954047   \n",
      "66       2007.0  2.402903    4.85774                  255.900    2.467932   \n",
      "40       1216.0  0.907419    3.59781                  244.004    2.155911   \n",
      "\n",
      "         mnth_cos  \n",
      "28  -5.000000e-01  \n",
      "38   5.000000e-01  \n",
      "103 -8.660254e-01  \n",
      "100 -5.000000e-01  \n",
      "89  -8.660254e-01  \n",
      "36   1.000000e+00  \n",
      "102 -1.000000e+00  \n",
      "47   8.660254e-01  \n",
      "17  -8.660254e-01  \n",
      "85   8.660254e-01  \n",
      "5   -8.660254e-01  \n",
      "67  -8.660254e-01  \n",
      "9   -1.836970e-16  \n",
      "6   -1.000000e+00  \n",
      "22   5.000000e-01  \n",
      "90  -1.000000e+00  \n",
      "4   -5.000000e-01  \n",
      "65  -8.660254e-01  \n",
      "23   8.660254e-01  \n",
      "73   8.660254e-01  \n",
      "41  -8.660254e-01  \n",
      "82   5.000000e-01  \n",
      "14   5.000000e-01  \n",
      "79  -8.660254e-01  \n",
      "8   -5.000000e-01  \n",
      "66  -1.000000e+00  \n",
      "40  -5.000000e-01  \n"
     ]
    }
   ],
   "source": [
    "print(X_test)"
   ]
  },
  {
   "cell_type": "markdown",
   "id": "981b1127",
   "metadata": {},
   "source": [
    "<h2>Plot results</h2>"
   ]
  },
  {
   "cell_type": "code",
   "execution_count": 11,
   "id": "28167ff6",
   "metadata": {},
   "outputs": [
    {
     "data": {
      "image/png": "[encoded data removed]",
      "text/plain": [
       "<Figure size 640x480 with 1 Axes>"
      ]
     },
     "metadata": {},
     "output_type": "display_data"
    }
   ],
   "source": [
    "import matplotlib.pyplot as plt\n",
    "\n",
    "# Plot the results\n",
    "plt.figure()\n",
    "plt.plot(X['DATE_DELTA'], y, color=\"greenyellow\", lw=1, label=\"data\")\n",
    "plt.scatter(X['DATE_DELTA'], y,s=25, edgecolor=\"white\", c=\"greenyellow\", label=\"actual\")\n",
    "plt.scatter(X_test['DATE_DELTA'], y_pred,s=50, edgecolor=\"black\", c=\"blue\", label=\"y_pred\")\n",
    "plt.scatter(X_test['DATE_DELTA'], y_test, s=50, edgecolor=\"black\", c=\"yellowgreen\", label=\"y_actual\")\n",
    "\n",
    "plt.xlabel(\"Date\")\n",
    "plt.ylabel(\"target\")\n",
    "plt.title(\"Decision Tree Regression\")\n",
    "plt.legend()\n",
    "plt.show()"
   ]
  },
  {
   "cell_type": "code",
   "execution_count": null,
   "id": "ba1cea6e",
   "metadata": {},
   "outputs": [],
   "source": []
  }
 ],
 "metadata": {
  "kernelspec": {
   "display_name": "Python 3 (ipykernel)",
   "language": "python",
   "name": "python3"
  },
  "language_info": {
   "codemirror_mode": {
    "name": "ipython",
    "version": 3
   },
   "file_extension": ".py",
   "mimetype": "text/x-python",
   "name": "python",
   "nbconvert_exporter": "python",
   "pygments_lexer": "ipython3",
   "version": "3.10.8"
  }
 },
 "nbformat": 4,
 "nbformat_minor": 5
}
