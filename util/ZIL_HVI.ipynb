{
 "cells": [
  {
   "cell_type": "markdown",
   "id": "78043779",
   "metadata": {},
   "source": [
    "<h1>\n",
    "Zillow Home Value Index (ZHVI) for All Homes PERCENT CHANGE</h1>\n",
    "<p>Including Single-Family Residences, Condos, and CO-OPs in California (CAUCSFRCONDOSMSAMID)</p>"
   ]
  },
  {
   "cell_type": "code",
   "execution_count": 17,
   "id": "88f0083b",
   "metadata": {},
   "outputs": [],
   "source": [
    "import numpy as np\n",
    "import pandas as pd"
   ]
  },
  {
   "cell_type": "code",
   "execution_count": 18,
   "id": "e93ef342",
   "metadata": {},
   "outputs": [],
   "source": [
    "## Converts YYYY-MM-DD to MM-YYYY\n",
    "def date_conversion(string):\n",
    "    temp = string\n",
    "    month = string[5:7]\n",
    "    year = string[:4]\n",
    "    return(month+\"/\"+year)\n",
    "\n",
    "def normalize(df):\n",
    "    X = df[['CAUCSFRCONDOSMSAMID_PCH']]\n",
    "    X['DATE'] = df['DATE'].apply(lambda x: date_conversion(x))\n",
    "    return X\n"
   ]
  },
  {
   "cell_type": "code",
   "execution_count": 19,
   "id": "47b5f80f",
   "metadata": {},
   "outputs": [],
   "source": [
    "df = pd.read_csv(\"../source/ZIL_HVI.csv\")"
   ]
  },
  {
   "cell_type": "code",
   "execution_count": 20,
   "id": "ffeacbb8",
   "metadata": {},
   "outputs": [
    {
     "data": {
      "text/html": [
       "<div>\n",
       "<style scoped>\n",
       "    .dataframe tbody tr th:only-of-type {\n",
       "        vertical-align: middle;\n",
       "    }\n",
       "\n",
       "    .dataframe tbody tr th {\n",
       "        vertical-align: top;\n",
       "    }\n",
       "\n",
       "    .dataframe thead th {\n",
       "        text-align: right;\n",
       "    }\n",
       "</style>\n",
       "<table border=\"1\" class=\"dataframe\">\n",
       "  <thead>\n",
       "    <tr style=\"text-align: right;\">\n",
       "      <th></th>\n",
       "      <th>CAUCSFRCONDOSMSAMID_PCH</th>\n",
       "      <th>DATE</th>\n",
       "    </tr>\n",
       "  </thead>\n",
       "  <tbody>\n",
       "    <tr>\n",
       "      <th>0</th>\n",
       "      <td>-0.07020</td>\n",
       "      <td>01/2012</td>\n",
       "    </tr>\n",
       "    <tr>\n",
       "      <th>1</th>\n",
       "      <td>-0.08430</td>\n",
       "      <td>02/2012</td>\n",
       "    </tr>\n",
       "    <tr>\n",
       "      <th>2</th>\n",
       "      <td>0.04721</td>\n",
       "      <td>03/2012</td>\n",
       "    </tr>\n",
       "    <tr>\n",
       "      <th>3</th>\n",
       "      <td>0.23258</td>\n",
       "      <td>04/2012</td>\n",
       "    </tr>\n",
       "    <tr>\n",
       "      <th>4</th>\n",
       "      <td>0.41366</td>\n",
       "      <td>05/2012</td>\n",
       "    </tr>\n",
       "    <tr>\n",
       "      <th>...</th>\n",
       "      <td>...</td>\n",
       "      <td>...</td>\n",
       "    </tr>\n",
       "    <tr>\n",
       "      <th>124</th>\n",
       "      <td>1.39058</td>\n",
       "      <td>05/2022</td>\n",
       "    </tr>\n",
       "    <tr>\n",
       "      <th>125</th>\n",
       "      <td>0.29177</td>\n",
       "      <td>06/2022</td>\n",
       "    </tr>\n",
       "    <tr>\n",
       "      <th>126</th>\n",
       "      <td>-0.40032</td>\n",
       "      <td>07/2022</td>\n",
       "    </tr>\n",
       "    <tr>\n",
       "      <th>127</th>\n",
       "      <td>-1.15309</td>\n",
       "      <td>08/2022</td>\n",
       "    </tr>\n",
       "    <tr>\n",
       "      <th>128</th>\n",
       "      <td>-0.93387</td>\n",
       "      <td>09/2022</td>\n",
       "    </tr>\n",
       "  </tbody>\n",
       "</table>\n",
       "<p>129 rows × 2 columns</p>\n",
       "</div>"
      ],
      "text/plain": [
       "     CAUCSFRCONDOSMSAMID_PCH     DATE\n",
       "0                   -0.07020  01/2012\n",
       "1                   -0.08430  02/2012\n",
       "2                    0.04721  03/2012\n",
       "3                    0.23258  04/2012\n",
       "4                    0.41366  05/2012\n",
       "..                       ...      ...\n",
       "124                  1.39058  05/2022\n",
       "125                  0.29177  06/2022\n",
       "126                 -0.40032  07/2022\n",
       "127                 -1.15309  08/2022\n",
       "128                 -0.93387  09/2022\n",
       "\n",
       "[129 rows x 2 columns]"
      ]
     },
     "execution_count": 20,
     "metadata": {},
     "output_type": "execute_result"
    }
   ],
   "source": [
    "df\n",
    "normalize(df)"
   ]
  },
  {
   "cell_type": "code",
   "execution_count": null,
   "id": "79288d01",
   "metadata": {},
   "outputs": [],
   "source": []
  },
  {
   "cell_type": "code",
   "execution_count": null,
   "id": "1bed9944",
   "metadata": {},
   "outputs": [],
   "source": []
  }
 ],
 "metadata": {
  "kernelspec": {
   "display_name": "Python 3 (ipykernel)",
   "language": "python",
   "name": "python3"
  },
  "language_info": {
   "codemirror_mode": {
    "name": "ipython",
    "version": 3
   },
   "file_extension": ".py",
   "mimetype": "text/x-python",
   "name": "python",
   "nbconvert_exporter": "python",
   "pygments_lexer": "ipython3",
   "version": "3.10.8"
  }
 },
 "nbformat": 4,
 "nbformat_minor": 5
}
