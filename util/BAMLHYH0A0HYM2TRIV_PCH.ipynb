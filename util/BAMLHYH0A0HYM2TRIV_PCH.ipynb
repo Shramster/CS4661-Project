{
 "cells": [
  {
   "cell_type": "code",
   "execution_count": 15,
   "id": "dac00b26",
   "metadata": {},
   "outputs": [],
   "source": [
    "import numpy as np\n",
    "import pandas as pd"
   ]
  },
  {
   "cell_type": "code",
   "execution_count": 16,
   "id": "de8878af",
   "metadata": {},
   "outputs": [],
   "source": [
    "df = pd.read_csv(\"../source/BAMLHYH0A0HYM2TRIV_PCH.csv\").rename(columns={'BAMLHYH0A0HYM2TRIV_PCH': 'BofA_Yield_Index_PCH'})"
   ]
  },
  {
   "cell_type": "code",
   "execution_count": 20,
   "id": "9f8d4fdf",
   "metadata": {},
   "outputs": [],
   "source": [
    "\n",
    "## Converts YYYY-MM-DD to MM-YYYY\n",
    "def date_conversion(string):\n",
    "    temp = string\n",
    "    month = string[5:7]\n",
    "    year = string[:4]\n",
    "    return(month+\"/\"+year)\n",
    "\n",
    "def normalize(df):\n",
    "    X = df[['BofA_Yield_Index_PCH']]\n",
    "    X['DATE'] = df['DATE'].apply(lambda x: date_conversion(x))\n",
    "    return X\n"
   ]
  },
  {
   "cell_type": "code",
   "execution_count": 21,
   "id": "cadbece2",
   "metadata": {},
   "outputs": [
    {
     "data": {
      "text/html": [
       "<div>\n",
       "<style scoped>\n",
       "    .dataframe tbody tr th:only-of-type {\n",
       "        vertical-align: middle;\n",
       "    }\n",
       "\n",
       "    .dataframe tbody tr th {\n",
       "        vertical-align: top;\n",
       "    }\n",
       "\n",
       "    .dataframe thead th {\n",
       "        text-align: right;\n",
       "    }\n",
       "</style>\n",
       "<table border=\"1\" class=\"dataframe\">\n",
       "  <thead>\n",
       "    <tr style=\"text-align: right;\">\n",
       "      <th></th>\n",
       "      <th>DATE</th>\n",
       "      <th>BofA_Yield_Index_PCH</th>\n",
       "    </tr>\n",
       "  </thead>\n",
       "  <tbody>\n",
       "    <tr>\n",
       "      <th>0</th>\n",
       "      <td>2013-01-01</td>\n",
       "      <td>1.72599</td>\n",
       "    </tr>\n",
       "    <tr>\n",
       "      <th>1</th>\n",
       "      <td>2013-02-01</td>\n",
       "      <td>0.01382</td>\n",
       "    </tr>\n",
       "    <tr>\n",
       "      <th>2</th>\n",
       "      <td>2013-03-01</td>\n",
       "      <td>1.12919</td>\n",
       "    </tr>\n",
       "    <tr>\n",
       "      <th>3</th>\n",
       "      <td>2013-04-01</td>\n",
       "      <td>1.08526</td>\n",
       "    </tr>\n",
       "    <tr>\n",
       "      <th>4</th>\n",
       "      <td>2013-05-01</td>\n",
       "      <td>1.56912</td>\n",
       "    </tr>\n",
       "  </tbody>\n",
       "</table>\n",
       "</div>"
      ],
      "text/plain": [
       "         DATE BofA_Yield_Index_PCH\n",
       "0  2013-01-01              1.72599\n",
       "1  2013-02-01              0.01382\n",
       "2  2013-03-01              1.12919\n",
       "3  2013-04-01              1.08526\n",
       "4  2013-05-01              1.56912"
      ]
     },
     "execution_count": 21,
     "metadata": {},
     "output_type": "execute_result"
    }
   ],
   "source": [
    "df.head()"
   ]
  },
  {
   "cell_type": "code",
   "execution_count": 22,
   "id": "71fde063",
   "metadata": {},
   "outputs": [
    {
     "data": {
      "text/html": [
       "<div>\n",
       "<style scoped>\n",
       "    .dataframe tbody tr th:only-of-type {\n",
       "        vertical-align: middle;\n",
       "    }\n",
       "\n",
       "    .dataframe tbody tr th {\n",
       "        vertical-align: top;\n",
       "    }\n",
       "\n",
       "    .dataframe thead th {\n",
       "        text-align: right;\n",
       "    }\n",
       "</style>\n",
       "<table border=\"1\" class=\"dataframe\">\n",
       "  <thead>\n",
       "    <tr style=\"text-align: right;\">\n",
       "      <th></th>\n",
       "      <th>BofA_Yield_Index_PCH</th>\n",
       "      <th>DATE</th>\n",
       "    </tr>\n",
       "  </thead>\n",
       "  <tbody>\n",
       "    <tr>\n",
       "      <th>0</th>\n",
       "      <td>1.72599</td>\n",
       "      <td>01/2013</td>\n",
       "    </tr>\n",
       "    <tr>\n",
       "      <th>1</th>\n",
       "      <td>0.01382</td>\n",
       "      <td>02/2013</td>\n",
       "    </tr>\n",
       "    <tr>\n",
       "      <th>2</th>\n",
       "      <td>1.12919</td>\n",
       "      <td>03/2013</td>\n",
       "    </tr>\n",
       "    <tr>\n",
       "      <th>3</th>\n",
       "      <td>1.08526</td>\n",
       "      <td>04/2013</td>\n",
       "    </tr>\n",
       "    <tr>\n",
       "      <th>4</th>\n",
       "      <td>1.56912</td>\n",
       "      <td>05/2013</td>\n",
       "    </tr>\n",
       "  </tbody>\n",
       "</table>\n",
       "</div>"
      ],
      "text/plain": [
       "  BofA_Yield_Index_PCH     DATE\n",
       "0              1.72599  01/2013\n",
       "1              0.01382  02/2013\n",
       "2              1.12919  03/2013\n",
       "3              1.08526  04/2013\n",
       "4              1.56912  05/2013"
      ]
     },
     "execution_count": 22,
     "metadata": {},
     "output_type": "execute_result"
    }
   ],
   "source": [
    "X = normalize(df)\n",
    "X.head()"
   ]
  },
  {
   "cell_type": "code",
   "execution_count": 23,
   "id": "e7edbbfa",
   "metadata": {},
   "outputs": [],
   "source": [
    "X.to_csv(\"../dataset/BAMLHYH0A0HYM2TRIV_PCH.csv\")"
   ]
  },
  {
   "cell_type": "code",
   "execution_count": null,
   "id": "d1333617",
   "metadata": {},
   "outputs": [],
   "source": []
  },
  {
   "cell_type": "code",
   "execution_count": null,
   "id": "f1090b2c",
   "metadata": {},
   "outputs": [],
   "source": []
  }
 ],
 "metadata": {
  "kernelspec": {
   "display_name": "Python 3 (ipykernel)",
   "language": "python",
   "name": "python3"
  },
  "language_info": {
   "codemirror_mode": {
    "name": "ipython",
    "version": 3
   },
   "file_extension": ".py",
   "mimetype": "text/x-python",
   "name": "python",
   "nbconvert_exporter": "python",
   "pygments_lexer": "ipython3",
   "version": "3.10.8"
  }
 },
 "nbformat": 4,
 "nbformat_minor": 5
}
