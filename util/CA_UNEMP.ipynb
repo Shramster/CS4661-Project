{
 "cells": [
  {
   "cell_type": "code",
   "execution_count": 2,
   "id": "61952ae6",
   "metadata": {},
   "outputs": [],
   "source": [
    "import numpy as np\n",
    "import pandas as pd\n",
    "import matplotlib as plt"
   ]
  },
  {
   "cell_type": "code",
   "execution_count": 3,
   "id": "30630bb8",
   "metadata": {},
   "outputs": [],
   "source": [
    "\n",
    "## Converts YYYY-MM-DD to MM-YYYY\n",
    "def date_conversion(string):\n",
    "    temp = string\n",
    "    month = string[5:7]\n",
    "    year = string[:4]\n",
    "    return(month+\"/\"+year)\n",
    "\n",
    "def normalize(df):\n",
    "    X = df[['CAUR']]\n",
    "    X['DATE'] = df['DATE'].apply(lambda x: date_conversion(x))\n",
    "    return X"
   ]
  },
  {
   "cell_type": "code",
   "execution_count": 4,
   "id": "e7a6f32a",
   "metadata": {},
   "outputs": [],
   "source": [
    "df = pd.read_csv(\"../source/CA_UNEMP.csv\") "
   ]
  },
  {
   "cell_type": "code",
   "execution_count": 5,
   "id": "58ef439a",
   "metadata": {},
   "outputs": [
    {
     "name": "stdout",
     "output_type": "stream",
     "text": [
      "     CAUR     DATE\n",
      "0    11.2  01/2012\n",
      "1    11.0  02/2012\n",
      "2    11.0  03/2012\n",
      "3    10.9  04/2012\n",
      "4    10.8  05/2012\n",
      "..    ...      ...\n",
      "124   4.3  05/2022\n",
      "125   4.2  06/2022\n",
      "126   3.9  07/2022\n",
      "127   4.1  08/2022\n",
      "128   3.9  09/2022\n",
      "\n",
      "[129 rows x 2 columns]\n"
     ]
    }
   ],
   "source": [
    "df\n",
    "print(normalize(df))"
   ]
  },
  {
   "cell_type": "code",
   "execution_count": 6,
   "id": "57014e51",
   "metadata": {},
   "outputs": [
    {
     "data": {
      "text/plain": [
       "7.802739726027397"
      ]
     },
     "execution_count": 6,
     "metadata": {},
     "output_type": "execute_result"
    }
   ],
   "source": [
    "## CHECKING TO SEE IF THERE ARE ANY NON NUMERICAL VALUES\n",
    "df['CAUR'].unique()\n",
    "df['CAUR'].unique().mean()"
   ]
  }
 ],
 "metadata": {
  "kernelspec": {
   "display_name": "Python 3 (ipykernel)",
   "language": "python",
   "name": "python3"
  },
  "language_info": {
   "codemirror_mode": {
    "name": "ipython",
    "version": 3
   },
   "file_extension": ".py",
   "mimetype": "text/x-python",
   "name": "python",
   "nbconvert_exporter": "python",
   "pygments_lexer": "ipython3",
   "version": "3.10.8"
  }
 },
 "nbformat": 4,
 "nbformat_minor": 5
}
