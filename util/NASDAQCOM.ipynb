{
 "cells": [
  {
   "cell_type": "markdown",
   "id": "a1b74ee4",
   "metadata": {},
   "source": [
    "<h1>NASDAQ Composite Index (NASDAQCOM) (PERCENT CHANGE)</h1>\n",
    "<p>https://fred.stlouisfed.org/series/NASDAQCOM#0\n",
    "    \n",
    "NASDAQCOM.csv</p>"
   ]
  },
  {
   "cell_type": "code",
   "execution_count": 1,
   "id": "d0240abe",
   "metadata": {},
   "outputs": [],
   "source": [
    "import numpy as np\n",
    "import pandas as pd"
   ]
  },
  {
   "cell_type": "code",
   "execution_count": 2,
   "id": "fda8086c",
   "metadata": {},
   "outputs": [],
   "source": [
    "df = pd.read_csv(\"../source/NASDAQCOM.csv\")"
   ]
  },
  {
   "cell_type": "code",
   "execution_count": 3,
   "id": "f6d004f4",
   "metadata": {},
   "outputs": [],
   "source": [
    "## Converts YYYY-MM-DD to MM-YYYY\n",
    "def date_conversion(string):\n",
    "    temp = string\n",
    "    month = string[5:7]\n",
    "    year = string[:4]\n",
    "    return(month+\"/\"+year)\n",
    "\n",
    "def normalize(df):\n",
    "    ## DROP any row with '.'\n",
    "    df = df[df['NASDAQCOM_PCH'] != '.']\n",
    "    X = df[['NASDAQCOM_PCH']].astype('float')\n",
    "    X['DATE'] = df['DATE'].apply(lambda x: date_conversion(x))\n",
    "    return X\n"
   ]
  },
  {
   "cell_type": "code",
   "execution_count": 4,
   "id": "7361b846",
   "metadata": {},
   "outputs": [
    {
     "data": {
      "text/html": [
       "<div>\n",
       "<style scoped>\n",
       "    .dataframe tbody tr th:only-of-type {\n",
       "        vertical-align: middle;\n",
       "    }\n",
       "\n",
       "    .dataframe tbody tr th {\n",
       "        vertical-align: top;\n",
       "    }\n",
       "\n",
       "    .dataframe thead th {\n",
       "        text-align: right;\n",
       "    }\n",
       "</style>\n",
       "<table border=\"1\" class=\"dataframe\">\n",
       "  <thead>\n",
       "    <tr style=\"text-align: right;\">\n",
       "      <th></th>\n",
       "      <th>NASDAQCOM_PCH</th>\n",
       "      <th>DATE</th>\n",
       "    </tr>\n",
       "  </thead>\n",
       "  <tbody>\n",
       "    <tr>\n",
       "      <th>0</th>\n",
       "      <td>5.46284</td>\n",
       "      <td>01/2012</td>\n",
       "    </tr>\n",
       "    <tr>\n",
       "      <th>1</th>\n",
       "      <td>6.74925</td>\n",
       "      <td>02/2012</td>\n",
       "    </tr>\n",
       "    <tr>\n",
       "      <th>2</th>\n",
       "      <td>3.65094</td>\n",
       "      <td>03/2012</td>\n",
       "    </tr>\n",
       "    <tr>\n",
       "      <th>3</th>\n",
       "      <td>-0.02683</td>\n",
       "      <td>04/2012</td>\n",
       "    </tr>\n",
       "    <tr>\n",
       "      <th>4</th>\n",
       "      <td>-4.43782</td>\n",
       "      <td>05/2012</td>\n",
       "    </tr>\n",
       "    <tr>\n",
       "      <th>...</th>\n",
       "      <td>...</td>\n",
       "      <td>...</td>\n",
       "    </tr>\n",
       "    <tr>\n",
       "      <th>125</th>\n",
       "      <td>-3.47270</td>\n",
       "      <td>06/2022</td>\n",
       "    </tr>\n",
       "    <tr>\n",
       "      <th>126</th>\n",
       "      <td>1.78399</td>\n",
       "      <td>07/2022</td>\n",
       "    </tr>\n",
       "    <tr>\n",
       "      <th>127</th>\n",
       "      <td>8.15331</td>\n",
       "      <td>08/2022</td>\n",
       "    </tr>\n",
       "    <tr>\n",
       "      <th>128</th>\n",
       "      <td>-9.28708</td>\n",
       "      <td>09/2022</td>\n",
       "    </tr>\n",
       "    <tr>\n",
       "      <th>129</th>\n",
       "      <td>-5.27373</td>\n",
       "      <td>10/2022</td>\n",
       "    </tr>\n",
       "  </tbody>\n",
       "</table>\n",
       "<p>130 rows × 2 columns</p>\n",
       "</div>"
      ],
      "text/plain": [
       "     NASDAQCOM_PCH     DATE\n",
       "0          5.46284  01/2012\n",
       "1          6.74925  02/2012\n",
       "2          3.65094  03/2012\n",
       "3         -0.02683  04/2012\n",
       "4         -4.43782  05/2012\n",
       "..             ...      ...\n",
       "125       -3.47270  06/2022\n",
       "126        1.78399  07/2022\n",
       "127        8.15331  08/2022\n",
       "128       -9.28708  09/2022\n",
       "129       -5.27373  10/2022\n",
       "\n",
       "[130 rows x 2 columns]"
      ]
     },
     "execution_count": 4,
     "metadata": {},
     "output_type": "execute_result"
    }
   ],
   "source": [
    "df = normalize(df)\n",
    "df\n",
    "## Values must\n",
    "##df['NASDAQCOM_PCH'].astype('float').mean()\n"
   ]
  }
 ],
 "metadata": {
  "kernelspec": {
   "display_name": "Python 3 (ipykernel)",
   "language": "python",
   "name": "python3"
  },
  "language_info": {
   "codemirror_mode": {
    "name": "ipython",
    "version": 3
   },
   "file_extension": ".py",
   "mimetype": "text/x-python",
   "name": "python",
   "nbconvert_exporter": "python",
   "pygments_lexer": "ipython3",
   "version": "3.10.8"
  }
 },
 "nbformat": 4,
 "nbformat_minor": 5
}
