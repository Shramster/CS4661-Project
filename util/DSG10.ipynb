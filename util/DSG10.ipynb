{
 "cells": [
  {
   "cell_type": "markdown",
   "id": "6ff4b30d",
   "metadata": {},
   "source": [
    "<h1>Market Yield on U.S. Treasury Securities at 10-Year Constant Maturity</h1>\n",
    "<p>Quoted on an Investment Basis (DGS10) *** This has some movement in the graph maybe good to train on ****</p>\n"
   ]
  },
  {
   "cell_type": "code",
   "execution_count": 1,
   "id": "ea939db6",
   "metadata": {},
   "outputs": [],
   "source": [
    "import numpy as np\n",
    "import pandas as pd"
   ]
  },
  {
   "cell_type": "code",
   "execution_count": 2,
   "id": "33c5e871",
   "metadata": {},
   "outputs": [],
   "source": [
    "df = pd.read_csv(\"../source/DGS10.csv\")"
   ]
  },
  {
   "cell_type": "code",
   "execution_count": 3,
   "id": "d76689ec",
   "metadata": {},
   "outputs": [],
   "source": [
    "\n",
    "## Converts YYYY-MM-DD to MM-YYYY\n",
    "def date_conversion(string):\n",
    "    temp = string\n",
    "    month = string[5:7]\n",
    "    year = string[:4]\n",
    "    return(month+\"/\"+year)\n",
    "\n",
    "def normalize(df):\n",
    "    X = df[['DGS10']]\n",
    "    X['DATE'] = df['DATE'].apply(lambda x: date_conversion(x))\n",
    "    return X\n",
    "\n",
    "def average_DGS(df):\n",
    "    months = df['DATE'].unique()\n",
    "    result = {'Average DGS': [], 'DATE': []}\n",
    "    \n",
    "    for m in months:\n",
    "        item = df[df['DATE']==m]\n",
    "        item = item[item['DGS10'] != '.']\n",
    "        average = item['DGS10'].astype('float').mean()\n",
    "        result['DATE'].append(m)\n",
    "        result['Average DGS'].append(average) \n",
    "    result = pd.DataFrame.from_dict(result)\n",
    "    return result\n"
   ]
  },
  {
   "cell_type": "code",
   "execution_count": 4,
   "id": "9f1fd761",
   "metadata": {},
   "outputs": [
    {
     "name": "stdout",
     "output_type": "stream",
     "text": [
      "         DATE DGS10\n",
      "0  2013-08-01  2.74\n",
      "1  2013-08-02  2.63\n",
      "2  2013-08-05  2.67\n",
      "3  2013-08-06  2.67\n",
      "4  2013-08-07  2.61\n",
      "  DGS10     DATE\n",
      "0  2.74  08/2013\n",
      "1  2.63  08/2013\n",
      "2  2.67  08/2013\n",
      "3  2.67  08/2013\n",
      "4  2.61  08/2013\n",
      "   Average DGS     DATE\n",
      "0     2.737273  08/2013\n",
      "1     2.809500  09/2013\n",
      "2     2.615909  10/2013\n",
      "3     2.718421  11/2013\n",
      "4     2.901905  12/2013\n"
     ]
    }
   ],
   "source": [
    "df\n",
    "print(df.head())\n",
    "X = normalize(df)\n",
    "print(X.head(5))\n",
    "print(average_DGS(X).head())"
   ]
  },
  {
   "cell_type": "code",
   "execution_count": 5,
   "id": "f8f2a597",
   "metadata": {},
   "outputs": [],
   "source": [
    "\n",
    "## LOOKS LIKE THERE ARE . or some kinda anomoly in the data\n",
    "\n",
    "new_DGS = average_DGS(X)"
   ]
  },
  {
   "cell_type": "code",
   "execution_count": 14,
   "id": "bddc1c60",
   "metadata": {},
   "outputs": [
    {
     "name": "stdout",
     "output_type": "stream",
     "text": [
      "   Average DGS     DATE\n",
      "0     2.737273  08/2013\n",
      "1     2.809500  09/2013\n",
      "2     2.615909  10/2013\n",
      "3     2.718421  11/2013\n",
      "4     2.901905  12/2013 \n",
      "      Average DGS     DATE\n",
      "105     2.898095  05/2022\n",
      "106     3.143333  06/2022\n",
      "107     2.896000  07/2022\n",
      "108     2.897826  08/2022\n",
      "109     3.519048  09/2022\n"
     ]
    }
   ],
   "source": [
    "print(new_DGS.head(), \"\\n\",\n",
    "new_DGS.tail())"
   ]
  },
  {
   "cell_type": "code",
   "execution_count": null,
   "id": "fa0e4a56",
   "metadata": {},
   "outputs": [],
   "source": []
  }
 ],
 "metadata": {
  "kernelspec": {
   "display_name": "Python 3 (ipykernel)",
   "language": "python",
   "name": "python3"
  },
  "language_info": {
   "codemirror_mode": {
    "name": "ipython",
    "version": 3
   },
   "file_extension": ".py",
   "mimetype": "text/x-python",
   "name": "python",
   "nbconvert_exporter": "python",
   "pygments_lexer": "ipython3",
   "version": "3.10.8"
  }
 },
 "nbformat": 4,
 "nbformat_minor": 5
}
