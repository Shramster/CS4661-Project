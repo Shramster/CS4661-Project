{
 "cells": [
  {
   "cell_type": "markdown",
   "id": "6ff4b30d",
   "metadata": {},
   "source": [
    "<h1>30-Year Fixed Rate Mortgage Average in the United States (MORTGAGE30US) </h1>\n",
    "<p>On November 17, 2022, Freddie Mac changed the methodology of the Primary Mortgage Market Survey® (PMMS®). The weekly mortgage rate is now based on applications submitted to Freddie Mac from lenders across the country. For more information regarding Freddie Mac’s enhancement, see their research note.</p>\n"
   ]
  },
  {
   "cell_type": "code",
   "execution_count": 19,
   "id": "ea939db6",
   "metadata": {},
   "outputs": [],
   "source": [
    "import numpy as np\n",
    "import pandas as pd"
   ]
  },
  {
   "cell_type": "code",
   "execution_count": 20,
   "id": "33c5e871",
   "metadata": {},
   "outputs": [
    {
     "data": {
      "text/html": [
       "<div>\n",
       "<style scoped>\n",
       "    .dataframe tbody tr th:only-of-type {\n",
       "        vertical-align: middle;\n",
       "    }\n",
       "\n",
       "    .dataframe tbody tr th {\n",
       "        vertical-align: top;\n",
       "    }\n",
       "\n",
       "    .dataframe thead th {\n",
       "        text-align: right;\n",
       "    }\n",
       "</style>\n",
       "<table border=\"1\" class=\"dataframe\">\n",
       "  <thead>\n",
       "    <tr style=\"text-align: right;\">\n",
       "      <th></th>\n",
       "      <th>DATE</th>\n",
       "      <th>MORTGAGE30US</th>\n",
       "    </tr>\n",
       "  </thead>\n",
       "  <tbody>\n",
       "    <tr>\n",
       "      <th>0</th>\n",
       "      <td>2014-01-02</td>\n",
       "      <td>4.53</td>\n",
       "    </tr>\n",
       "    <tr>\n",
       "      <th>1</th>\n",
       "      <td>2014-01-09</td>\n",
       "      <td>4.51</td>\n",
       "    </tr>\n",
       "    <tr>\n",
       "      <th>2</th>\n",
       "      <td>2014-01-16</td>\n",
       "      <td>4.41</td>\n",
       "    </tr>\n",
       "    <tr>\n",
       "      <th>3</th>\n",
       "      <td>2014-01-23</td>\n",
       "      <td>4.39</td>\n",
       "    </tr>\n",
       "    <tr>\n",
       "      <th>4</th>\n",
       "      <td>2014-01-30</td>\n",
       "      <td>4.32</td>\n",
       "    </tr>\n",
       "  </tbody>\n",
       "</table>\n",
       "</div>"
      ],
      "text/plain": [
       "         DATE  MORTGAGE30US\n",
       "0  2014-01-02          4.53\n",
       "1  2014-01-09          4.51\n",
       "2  2014-01-16          4.41\n",
       "3  2014-01-23          4.39\n",
       "4  2014-01-30          4.32"
      ]
     },
     "execution_count": 20,
     "metadata": {},
     "output_type": "execute_result"
    }
   ],
   "source": [
    "df = pd.read_csv(\"../source/MORTGAGE30US.csv\")\n",
    "df.head()"
   ]
  },
  {
   "cell_type": "code",
   "execution_count": 6,
   "id": "d76689ec",
   "metadata": {},
   "outputs": [],
   "source": [
    "\n",
    "## Converts YYYY-MM-DD to MM-YYYY\n",
    "def date_conversion(string):\n",
    "    temp = string\n",
    "    month = string[5:7]\n",
    "    year = string[:4]\n",
    "    return(month+\"/\"+year)\n",
    "\n",
    "def normalize(df):\n",
    "    X = df[['MORTGAGE30US']]\n",
    "    X['DATE'] = df['DATE'].apply(lambda x: date_conversion(x))\n",
    "    return X\n",
    "\n",
    "def average_DGS(df):\n",
    "    months = df['DATE'].unique()\n",
    "    result = {'Average DGS': [], 'DATE': []}\n",
    "    \n",
    "    for m in months:\n",
    "        item = df[df['DATE']==m]\n",
    "        item = item[item['DGS10'] != '.']\n",
    "        average = item['DGS10'].astype('float').mean()\n",
    "        result['DATE'].append(m)\n",
    "        result['Average DGS'].append(average) \n",
    "    result = pd.DataFrame.from_dict(result)\n",
    "    return result\n"
   ]
  },
  {
   "cell_type": "code",
   "execution_count": 18,
   "id": "62577095",
   "metadata": {},
   "outputs": [
    {
     "name": "stdout",
     "output_type": "stream",
     "text": [
      "   MORTGAGE30US     DATE\n",
      "0          4.53  ///////\n",
      "1          4.51  ///////\n",
      "2          4.41  ///////\n",
      "3          4.39  ///////\n",
      "4          4.32  ///////\n"
     ]
    },
    {
     "data": {
      "text/html": [
       "<div>\n",
       "<style scoped>\n",
       "    .dataframe tbody tr th:only-of-type {\n",
       "        vertical-align: middle;\n",
       "    }\n",
       "\n",
       "    .dataframe tbody tr th {\n",
       "        vertical-align: top;\n",
       "    }\n",
       "\n",
       "    .dataframe thead th {\n",
       "        text-align: right;\n",
       "    }\n",
       "</style>\n",
       "<table border=\"1\" class=\"dataframe\">\n",
       "  <thead>\n",
       "    <tr style=\"text-align: right;\">\n",
       "      <th></th>\n",
       "      <th>MORTGAGE30US</th>\n",
       "      <th>DATE</th>\n",
       "    </tr>\n",
       "  </thead>\n",
       "  <tbody>\n",
       "    <tr>\n",
       "      <th>455</th>\n",
       "      <td>6.29</td>\n",
       "      <td>///////</td>\n",
       "    </tr>\n",
       "    <tr>\n",
       "      <th>456</th>\n",
       "      <td>6.70</td>\n",
       "      <td>///////</td>\n",
       "    </tr>\n",
       "    <tr>\n",
       "      <th>457</th>\n",
       "      <td>6.66</td>\n",
       "      <td>///////</td>\n",
       "    </tr>\n",
       "    <tr>\n",
       "      <th>458</th>\n",
       "      <td>6.92</td>\n",
       "      <td>///////</td>\n",
       "    </tr>\n",
       "    <tr>\n",
       "      <th>459</th>\n",
       "      <td>6.94</td>\n",
       "      <td>///////</td>\n",
       "    </tr>\n",
       "  </tbody>\n",
       "</table>\n",
       "</div>"
      ],
      "text/plain": [
       "     MORTGAGE30US     DATE\n",
       "455          6.29  ///////\n",
       "456          6.70  ///////\n",
       "457          6.66  ///////\n",
       "458          6.92  ///////\n",
       "459          6.94  ///////"
      ]
     },
     "execution_count": 18,
     "metadata": {},
     "output_type": "execute_result"
    }
   ],
   "source": [
    "print(df.head())\n",
    "df = normalize(df)\n",
    "df.tail()\n"
   ]
  },
  {
   "cell_type": "markdown",
   "id": "c3fdfb4e",
   "metadata": {},
   "source": [
    "## VERIFY THAT THERE IS ONLY NUMBERICAL DATA\n",
    "## SELECT UNIQUE ELEMENTS AND THEN RUN MEAN"
   ]
  },
  {
   "cell_type": "code",
   "execution_count": 17,
   "id": "2b066dbd",
   "metadata": {},
   "outputs": [
    {
     "data": {
      "text/plain": [
       "4.007587939698492"
      ]
     },
     "execution_count": 17,
     "metadata": {},
     "output_type": "execute_result"
    }
   ],
   "source": [
    "array = df['MORTGAGE30US'].unique()\n",
    "array.mean()"
   ]
  }
 ],
 "metadata": {
  "kernelspec": {
   "display_name": "Python 3 (ipykernel)",
   "language": "python",
   "name": "python3"
  },
  "language_info": {
   "codemirror_mode": {
    "name": "ipython",
    "version": 3
   },
   "file_extension": ".py",
   "mimetype": "text/x-python",
   "name": "python",
   "nbconvert_exporter": "python",
   "pygments_lexer": "ipython3",
   "version": "3.10.8"
  }
 },
 "nbformat": 4,
 "nbformat_minor": 5
}
