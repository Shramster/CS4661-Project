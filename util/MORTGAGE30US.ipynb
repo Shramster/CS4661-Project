{
 "cells": [
  {
   "cell_type": "markdown",
   "id": "6ff4b30d",
   "metadata": {},
   "source": [
    "<h1>30-Year Fixed Rate Mortgage Average in the United States (MORTGAGE30US) </h1>\n",
    "<p>On November 17, 2022, Freddie Mac changed the methodology of the Primary Mortgage Market Survey® (PMMS®). The weekly mortgage rate is now based on applications submitted to Freddie Mac from lenders across the country. For more information regarding Freddie Mac’s enhancement, see their research note.</p>\n"
   ]
  },
  {
   "cell_type": "code",
   "execution_count": 50,
   "id": "ea939db6",
   "metadata": {},
   "outputs": [],
   "source": [
    "import numpy as np\n",
    "import pandas as pd"
   ]
  },
  {
   "cell_type": "code",
   "execution_count": 51,
   "id": "33c5e871",
   "metadata": {},
   "outputs": [
    {
     "data": {
      "text/html": [
       "<div>\n",
       "<style scoped>\n",
       "    .dataframe tbody tr th:only-of-type {\n",
       "        vertical-align: middle;\n",
       "    }\n",
       "\n",
       "    .dataframe tbody tr th {\n",
       "        vertical-align: top;\n",
       "    }\n",
       "\n",
       "    .dataframe thead th {\n",
       "        text-align: right;\n",
       "    }\n",
       "</style>\n",
       "<table border=\"1\" class=\"dataframe\">\n",
       "  <thead>\n",
       "    <tr style=\"text-align: right;\">\n",
       "      <th></th>\n",
       "      <th>DATE</th>\n",
       "      <th>MORTGAGE30US</th>\n",
       "    </tr>\n",
       "  </thead>\n",
       "  <tbody>\n",
       "    <tr>\n",
       "      <th>0</th>\n",
       "      <td>2014-01-01</td>\n",
       "      <td>4.4320</td>\n",
       "    </tr>\n",
       "    <tr>\n",
       "      <th>1</th>\n",
       "      <td>2014-02-01</td>\n",
       "      <td>4.3025</td>\n",
       "    </tr>\n",
       "    <tr>\n",
       "      <th>2</th>\n",
       "      <td>2014-03-01</td>\n",
       "      <td>4.3425</td>\n",
       "    </tr>\n",
       "    <tr>\n",
       "      <th>3</th>\n",
       "      <td>2014-04-01</td>\n",
       "      <td>4.3375</td>\n",
       "    </tr>\n",
       "    <tr>\n",
       "      <th>4</th>\n",
       "      <td>2014-05-01</td>\n",
       "      <td>4.1920</td>\n",
       "    </tr>\n",
       "  </tbody>\n",
       "</table>\n",
       "</div>"
      ],
      "text/plain": [
       "         DATE  MORTGAGE30US\n",
       "0  2014-01-01        4.4320\n",
       "1  2014-02-01        4.3025\n",
       "2  2014-03-01        4.3425\n",
       "3  2014-04-01        4.3375\n",
       "4  2014-05-01        4.1920"
      ]
     },
     "execution_count": 51,
     "metadata": {},
     "output_type": "execute_result"
    }
   ],
   "source": [
    "df = pd.read_csv(\"../source/MORTGAGE30US.csv\")\n",
    "df.head()"
   ]
  },
  {
   "cell_type": "code",
   "execution_count": 52,
   "id": "d76689ec",
   "metadata": {},
   "outputs": [],
   "source": [
    "\n",
    "## Converts YYYY-MM-DD to MM-YYYY\n",
    "def date_conversion(string):\n",
    "    temp = string\n",
    "    month = string[5:7]\n",
    "    year = string[:4]\n",
    "    return(month+\"/\"+year)\n",
    "\n",
    "def normalize(df):\n",
    "    X = df[['MORTGAGE30US']]\n",
    "    X['DATE'] = df['DATE'].apply(lambda x: date_conversion(x))\n",
    "    return X\n",
    "\n",
    "def average_MORT(df):\n",
    "    months = df['DATE'].unique()\n",
    "    result = {'Average DGS': [], 'DATE': []}\n",
    "    \n",
    "    for m in months:\n",
    "        item = df[df['DATE']==m]\n",
    "        item = item[item['MORTGAGE30US'] != '.']\n",
    "        average = item['DGS10'].astype('float').mean()\n",
    "        result['DATE'].append(m)\n",
    "        result['Average DGS'].append(average) \n",
    "    result = pd.DataFrame.from_dict(result)\n",
    "    return result\n"
   ]
  },
  {
   "cell_type": "code",
   "execution_count": 53,
   "id": "62577095",
   "metadata": {},
   "outputs": [
    {
     "name": "stdout",
     "output_type": "stream",
     "text": [
      "         DATE  MORTGAGE30US\n",
      "0  2014-01-01        4.4320\n",
      "1  2014-02-01        4.3025\n",
      "2  2014-03-01        4.3425\n",
      "3  2014-04-01        4.3375\n",
      "4  2014-05-01        4.1920\n"
     ]
    },
    {
     "data": {
      "text/html": [
       "<div>\n",
       "<style scoped>\n",
       "    .dataframe tbody tr th:only-of-type {\n",
       "        vertical-align: middle;\n",
       "    }\n",
       "\n",
       "    .dataframe tbody tr th {\n",
       "        vertical-align: top;\n",
       "    }\n",
       "\n",
       "    .dataframe thead th {\n",
       "        text-align: right;\n",
       "    }\n",
       "</style>\n",
       "<table border=\"1\" class=\"dataframe\">\n",
       "  <thead>\n",
       "    <tr style=\"text-align: right;\">\n",
       "      <th></th>\n",
       "      <th>MORTGAGE30US</th>\n",
       "      <th>DATE</th>\n",
       "    </tr>\n",
       "  </thead>\n",
       "  <tbody>\n",
       "    <tr>\n",
       "      <th>0</th>\n",
       "      <td>4.4320</td>\n",
       "      <td>01/2014</td>\n",
       "    </tr>\n",
       "    <tr>\n",
       "      <th>1</th>\n",
       "      <td>4.3025</td>\n",
       "      <td>02/2014</td>\n",
       "    </tr>\n",
       "    <tr>\n",
       "      <th>2</th>\n",
       "      <td>4.3425</td>\n",
       "      <td>03/2014</td>\n",
       "    </tr>\n",
       "    <tr>\n",
       "      <th>3</th>\n",
       "      <td>4.3375</td>\n",
       "      <td>04/2014</td>\n",
       "    </tr>\n",
       "    <tr>\n",
       "      <th>4</th>\n",
       "      <td>4.1920</td>\n",
       "      <td>05/2014</td>\n",
       "    </tr>\n",
       "    <tr>\n",
       "      <th>5</th>\n",
       "      <td>4.1625</td>\n",
       "      <td>06/2014</td>\n",
       "    </tr>\n",
       "    <tr>\n",
       "      <th>6</th>\n",
       "      <td>4.1300</td>\n",
       "      <td>07/2014</td>\n",
       "    </tr>\n",
       "    <tr>\n",
       "      <th>7</th>\n",
       "      <td>4.1150</td>\n",
       "      <td>08/2014</td>\n",
       "    </tr>\n",
       "    <tr>\n",
       "      <th>8</th>\n",
       "      <td>4.1625</td>\n",
       "      <td>09/2014</td>\n",
       "    </tr>\n",
       "    <tr>\n",
       "      <th>9</th>\n",
       "      <td>4.0360</td>\n",
       "      <td>10/2014</td>\n",
       "    </tr>\n",
       "  </tbody>\n",
       "</table>\n",
       "</div>"
      ],
      "text/plain": [
       "   MORTGAGE30US     DATE\n",
       "0        4.4320  01/2014\n",
       "1        4.3025  02/2014\n",
       "2        4.3425  03/2014\n",
       "3        4.3375  04/2014\n",
       "4        4.1920  05/2014\n",
       "5        4.1625  06/2014\n",
       "6        4.1300  07/2014\n",
       "7        4.1150  08/2014\n",
       "8        4.1625  09/2014\n",
       "9        4.0360  10/2014"
      ]
     },
     "execution_count": 53,
     "metadata": {},
     "output_type": "execute_result"
    }
   ],
   "source": [
    "print(df.head())\n",
    "df = normalize(df)\n",
    "df.head(10)\n"
   ]
  },
  {
   "cell_type": "markdown",
   "id": "e36ddaa0",
   "metadata": {},
   "source": [
    "## VERIFY THAT THERE IS:\n",
    "## ONLY NUMBERICAL DATA IN MORT30  &&\n",
    "## EVERY DATE IS UNIQUE"
   ]
  },
  {
   "cell_type": "code",
   "execution_count": 55,
   "id": "aa1cfeb5",
   "metadata": {},
   "outputs": [
    {
     "name": "stdout",
     "output_type": "stream",
     "text": [
      "107\n"
     ]
    }
   ],
   "source": [
    "date_array = df['DATE'].unique()\n",
    "print(len(date_array))"
   ]
  },
  {
   "cell_type": "code",
   "execution_count": 56,
   "id": "716d11f5",
   "metadata": {},
   "outputs": [
    {
     "data": {
      "text/plain": [
       "3.9365873786407777"
      ]
     },
     "execution_count": 56,
     "metadata": {},
     "output_type": "execute_result"
    }
   ],
   "source": [
    "mort_array = df['MORTGAGE30US'].unique()\n",
    "mort_array.mean()"
   ]
  }
 ],
 "metadata": {
  "kernelspec": {
   "display_name": "Python 3 (ipykernel)",
   "language": "python",
   "name": "python3"
  },
  "language_info": {
   "codemirror_mode": {
    "name": "ipython",
    "version": 3
   },
   "file_extension": ".py",
   "mimetype": "text/x-python",
   "name": "python",
   "nbconvert_exporter": "python",
   "pygments_lexer": "ipython3",
   "version": "3.10.8"
  }
 },
 "nbformat": 4,
 "nbformat_minor": 5
}
