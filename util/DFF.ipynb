{
 "cells": [
  {
   "cell_type": "markdown",
   "id": "6ff4b30d",
   "metadata": {},
   "source": [
    "<h1>Federal Funds Effective Rate (DFF) </h1>\n",
    "<p>The federal funds rate is the interest rate at which depository institutions trade federal funds (balances held at Federal Reserve Banks) with each other overnight. When a depository institution has surplus balances in its reserve account, it lends to other banks in need of larger balances. In simpler terms, a bank with excess cash, which is often referred to as liquidity, will lend to another bank that needs to quickly raise liquidity. (1) The rate that the borrowing institution pays to the lending institution is determined between the two banks; the weighted average rate for all of these types of negotiations is called the effective federal funds rate.(2) The effective federal funds rate is essentially determined by the market but is influenced by the Federal Reserve through open market operations to reach the federal funds rate target.(2)</p>\n"
   ]
  },
  {
   "cell_type": "code",
   "execution_count": 1,
   "id": "ea939db6",
   "metadata": {},
   "outputs": [],
   "source": [
    "import numpy as np\n",
    "import pandas as pd"
   ]
  },
  {
   "cell_type": "code",
   "execution_count": 2,
   "id": "33c5e871",
   "metadata": {},
   "outputs": [],
   "source": [
    "df = pd.read_csv(\"../source/DFF.csv\")"
   ]
  },
  {
   "cell_type": "code",
   "execution_count": 3,
   "id": "d76689ec",
   "metadata": {},
   "outputs": [],
   "source": [
    "\n",
    "## Converts YYYY-MM-DD to MM-YYYY\n",
    "def date_conversion(string):\n",
    "    temp = string\n",
    "    month = string[5:7]\n",
    "    year = string[:4]\n",
    "    return(month+\"/\"+year)\n",
    "\n",
    "def normalize(df):\n",
    "    X = df[['DFF']]\n",
    "    X['DATE'] = df['DATE'].apply(lambda x: date_conversion(x))\n",
    "    return X\n",
    "\n",
    "def average_DGS(df):\n",
    "    months = df['DATE'].unique()\n",
    "    result = {'Average DGS': [], 'DATE': []}\n",
    "    \n",
    "    for m in months:\n",
    "        item = df[df['DATE']==m]\n",
    "        item = item[item['DGS10'] != '.']\n",
    "        average = item['DGS10'].astype('float').mean()\n",
    "        result['DATE'].append(m)\n",
    "        result['Average DGS'].append(average) \n",
    "    result = pd.DataFrame.from_dict(result)\n",
    "    return result\n"
   ]
  },
  {
   "cell_type": "code",
   "execution_count": 4,
   "id": "62577095",
   "metadata": {},
   "outputs": [
    {
     "name": "stdout",
     "output_type": "stream",
     "text": [
      "         DATE       DFF\n",
      "0  2013-01-01  0.142581\n",
      "1  2013-02-01  0.145000\n",
      "2  2013-03-01  0.143548\n",
      "3  2013-04-01  0.145000\n",
      "4  2013-05-01  0.109032\n"
     ]
    },
    {
     "data": {
      "text/html": [
       "<div>\n",
       "<style scoped>\n",
       "    .dataframe tbody tr th:only-of-type {\n",
       "        vertical-align: middle;\n",
       "    }\n",
       "\n",
       "    .dataframe tbody tr th {\n",
       "        vertical-align: top;\n",
       "    }\n",
       "\n",
       "    .dataframe thead th {\n",
       "        text-align: right;\n",
       "    }\n",
       "</style>\n",
       "<table border=\"1\" class=\"dataframe\">\n",
       "  <thead>\n",
       "    <tr style=\"text-align: right;\">\n",
       "      <th></th>\n",
       "      <th>DFF</th>\n",
       "      <th>DATE</th>\n",
       "    </tr>\n",
       "  </thead>\n",
       "  <tbody>\n",
       "    <tr>\n",
       "      <th>113</th>\n",
       "      <td>1.205000</td>\n",
       "      <td>06/2022</td>\n",
       "    </tr>\n",
       "    <tr>\n",
       "      <th>114</th>\n",
       "      <td>1.675806</td>\n",
       "      <td>07/2022</td>\n",
       "    </tr>\n",
       "    <tr>\n",
       "      <th>115</th>\n",
       "      <td>2.330000</td>\n",
       "      <td>08/2022</td>\n",
       "    </tr>\n",
       "    <tr>\n",
       "      <th>116</th>\n",
       "      <td>2.555000</td>\n",
       "      <td>09/2022</td>\n",
       "    </tr>\n",
       "    <tr>\n",
       "      <th>117</th>\n",
       "      <td>3.080000</td>\n",
       "      <td>10/2022</td>\n",
       "    </tr>\n",
       "  </tbody>\n",
       "</table>\n",
       "</div>"
      ],
      "text/plain": [
       "          DFF     DATE\n",
       "113  1.205000  06/2022\n",
       "114  1.675806  07/2022\n",
       "115  2.330000  08/2022\n",
       "116  2.555000  09/2022\n",
       "117  3.080000  10/2022"
      ]
     },
     "execution_count": 4,
     "metadata": {},
     "output_type": "execute_result"
    }
   ],
   "source": [
    "print(df.head())\n",
    "df = normalize(df)\n",
    "df.tail()"
   ]
  }
 ],
 "metadata": {
  "kernelspec": {
   "display_name": "Python 3 (ipykernel)",
   "language": "python",
   "name": "python3"
  },
  "language_info": {
   "codemirror_mode": {
    "name": "ipython",
    "version": 3
   },
   "file_extension": ".py",
   "mimetype": "text/x-python",
   "name": "python",
   "nbconvert_exporter": "python",
   "pygments_lexer": "ipython3",
   "version": "3.10.8"
  }
 },
 "nbformat": 4,
 "nbformat_minor": 5
}
